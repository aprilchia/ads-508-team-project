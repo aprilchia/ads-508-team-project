{
 "cells": [
  {
   "cell_type": "markdown",
   "metadata": {},
   "source": [
    "# Setup All Workshop Dependencies\n",
    "\n",
    "## _Note:  This Notebook Will Take A Few Minutes To Complete._\n",
    "\n",
    "## _Please Be Patient._"
   ]
  },
  {
   "cell_type": "code",
   "execution_count": 1,
   "metadata": {},
   "outputs": [
    {
     "name": "stdout",
     "output_type": "stream",
     "text": [
      "shell-init: error retrieving current directory: getcwd: cannot access parent directories: No such file or directory\n",
      "Python 3.11.11\n"
     ]
    }
   ],
   "source": [
    "!python --version"
   ]
  },
  {
   "cell_type": "code",
   "execution_count": 2,
   "metadata": {
    "scrolled": true
   },
   "outputs": [
    {
     "name": "stdout",
     "output_type": "stream",
     "text": [
      "shell-init: error retrieving current directory: getcwd: cannot access parent directories: No such file or directory\n",
      "The folder you are executing pip from can no longer be found.\n"
     ]
    }
   ],
   "source": [
    "!pip list"
   ]
  },
  {
   "cell_type": "markdown",
   "metadata": {},
   "source": [
    "# Pip"
   ]
  },
  {
   "cell_type": "code",
   "execution_count": 3,
   "metadata": {},
   "outputs": [
    {
     "name": "stdout",
     "output_type": "stream",
     "text": [
      "shell-init: error retrieving current directory: getcwd: cannot access parent directories: No such file or directory\n",
      "The folder you are executing pip from can no longer be found.\n",
      "shell-init: error retrieving current directory: getcwd: cannot access parent directories: No such file or directory\n",
      "The folder you are executing pip from can no longer be found.\n"
     ]
    }
   ],
   "source": [
    "!pip install --disable-pip-version-check -q pip --upgrade > /dev/null\n",
    "!pip install --disable-pip-version-check -q wrapt --upgrade > /dev/null"
   ]
  },
  {
   "cell_type": "markdown",
   "metadata": {},
   "source": [
    "# AWS CLI and AWS Python SDK (boto3)"
   ]
  },
  {
   "cell_type": "code",
   "execution_count": 4,
   "metadata": {},
   "outputs": [
    {
     "name": "stdout",
     "output_type": "stream",
     "text": [
      "shell-init: error retrieving current directory: getcwd: cannot access parent directories: No such file or directory\n",
      "The folder you are executing pip from can no longer be found.\n"
     ]
    }
   ],
   "source": [
    "!pip install --disable-pip-version-check -q awscli==1.18.216 boto3==1.16.56 botocore==1.19.56"
   ]
  },
  {
   "cell_type": "markdown",
   "metadata": {},
   "source": [
    "# SageMaker"
   ]
  },
  {
   "cell_type": "code",
   "execution_count": 5,
   "metadata": {},
   "outputs": [
    {
     "name": "stdout",
     "output_type": "stream",
     "text": [
      "shell-init: error retrieving current directory: getcwd: cannot access parent directories: No such file or directory\n",
      "The folder you are executing pip from can no longer be found.\n",
      "shell-init: error retrieving current directory: getcwd: cannot access parent directories: No such file or directory\n",
      "The folder you are executing pip from can no longer be found.\n",
      "shell-init: error retrieving current directory: getcwd: cannot access parent directories: No such file or directory\n",
      "The folder you are executing pip from can no longer be found.\n"
     ]
    }
   ],
   "source": [
    "!pip install --disable-pip-version-check -q sagemaker==2.29.0\n",
    "!pip install --disable-pip-version-check -q smdebug==1.0.1\n",
    "!pip install --disable-pip-version-check -q sagemaker-experiments==0.1.26"
   ]
  },
  {
   "cell_type": "markdown",
   "metadata": {},
   "source": [
    "# PyTorch"
   ]
  },
  {
   "cell_type": "code",
   "execution_count": 6,
   "metadata": {},
   "outputs": [
    {
     "name": "stdout",
     "output_type": "stream",
     "text": [
      "shell-init: error retrieving current directory: getcwd: cannot access parent directories: No such file or directory\n",
      "Channels:\n",
      " - pytorch\n",
      " - conda-forge\n",
      "Platform: linux-64\n",
      "doneecting package metadata (repodata.json): - \n",
      "/ WARNING conda.models.version:get_matcher(563): Using .* with relational operator is superfluous and deprecated and will be removed in a future version of conda. Your spec was 0.35.0.*, but conda is ignoring the .* and treating it as 0.35.0\n",
      "WARNING conda.models.version:get_matcher(563): Using .* with relational operator is superfluous and deprecated and will be removed in a future version of conda. Your spec was 0.20.0.*, but conda is ignoring the .* and treating it as 0.20.0\n",
      "WARNING conda.models.version:get_matcher(563): Using .* with relational operator is superfluous and deprecated and will be removed in a future version of conda. Your spec was 2.18.0.*, but conda is ignoring the .* and treating it as 2.18.0\n",
      "WARNING conda.models.version:get_matcher(563): Using .* with relational operator is superfluous and deprecated and will be removed in a future version of conda. Your spec was 4.3.0.*, but conda is ignoring the .* and treating it as 4.3.0\n",
      "WARNING conda.models.version:get_matcher(563): Using .* with relational operator is superfluous and deprecated and will be removed in a future version of conda. Your spec was 0.2.0.*, but conda is ignoring the .* and treating it as 0.2.0\n",
      "WARNING conda.models.version:get_matcher(563): Using .* with relational operator is superfluous and deprecated and will be removed in a future version of conda. Your spec was 0.14.0.*, but conda is ignoring the .* and treating it as 0.14.0\n",
      "WARNING conda.models.version:get_matcher(563): Using .* with relational operator is superfluous and deprecated and will be removed in a future version of conda. Your spec was 1.16.0.*, but conda is ignoring the .* and treating it as 1.16.0\n",
      "WARNING conda.models.version:get_matcher(563): Using .* with relational operator is superfluous and deprecated and will be removed in a future version of conda. Your spec was 1.6.0.*, but conda is ignoring the .* and treating it as 1.6.0\n",
      "WARNING conda.models.version:get_matcher(563): Using .* with relational operator is superfluous and deprecated and will be removed in a future version of conda. Your spec was 2.241.0.*, but conda is ignoring the .* and treating it as 2.241.0\n",
      "WARNING conda.models.version:get_matcher(563): Using .* with relational operator is superfluous and deprecated and will be removed in a future version of conda. Your spec was 0.1.0.*, but conda is ignoring the .* and treating it as 0.1.0\n",
      "WARNING conda.models.version:get_matcher(563): Using .* with relational operator is superfluous and deprecated and will be removed in a future version of conda. Your spec was 0.5.0.*, but conda is ignoring the .* and treating it as 0.5.0\n",
      "WARNING conda.models.version:get_matcher(563): Using .* with relational operator is superfluous and deprecated and will be removed in a future version of conda. Your spec was 0.4.0.*, but conda is ignoring the .* and treating it as 0.4.0\n",
      "WARNING conda.models.version:get_matcher(563): Using .* with relational operator is superfluous and deprecated and will be removed in a future version of conda. Your spec was 1.5.0.*, but conda is ignoring the .* and treating it as 1.5.0\n",
      "WARNING conda.models.version:get_matcher(563): Using .* with relational operator is superfluous and deprecated and will be removed in a future version of conda. Your spec was 2024.11.0.*, but conda is ignoring the .* and treating it as 2024.11.0\n",
      "WARNING conda.models.version:get_matcher(563): Using .* with relational operator is superfluous and deprecated and will be removed in a future version of conda. Your spec was 1.13.0.*, but conda is ignoring the .* and treating it as 1.13.0\n",
      "WARNING conda.models.version:get_matcher(563): Using .* with relational operator is superfluous and deprecated and will be removed in a future version of conda. Your spec was 1.10.0.*, but conda is ignoring the .* and treating it as 1.10.0\n",
      "WARNING conda.models.version:get_matcher(563): Using .* with relational operator is superfluous and deprecated and will be removed in a future version of conda. Your spec was 0.8.0.*, but conda is ignoring the .* and treating it as 0.8.0\n",
      "WARNING conda.models.version:get_matcher(563): Using .* with relational operator is superfluous and deprecated and will be removed in a future version of conda. Your spec was 2.2.0.*, but conda is ignoring the .* and treating it as 2.2.0\n",
      "WARNING conda.models.version:get_matcher(563): Using .* with relational operator is superfluous and deprecated and will be removed in a future version of conda. Your spec was 24.4.0.*, but conda is ignoring the .* and treating it as 24.4.0\n",
      "WARNING conda.models.version:get_matcher(563): Using .* with relational operator is superfluous and deprecated and will be removed in a future version of conda. Your spec was 2.3.0.*, but conda is ignoring the .* and treating it as 2.3.0\n",
      "WARNING conda.models.version:get_matcher(563): Using .* with relational operator is superfluous and deprecated and will be removed in a future version of conda. Your spec was 1.27.0.*, but conda is ignoring the .* and treating it as 1.27.0\n",
      "WARNING conda.models.version:get_matcher(563): Using .* with relational operator is superfluous and deprecated and will be removed in a future version of conda. Your spec was 7.4.0.*, but conda is ignoring the .* and treating it as 7.4.0\n",
      "WARNING conda.models.version:get_matcher(563): Using .* with relational operator is superfluous and deprecated and will be removed in a future version of conda. Your spec was 2.21.0.*, but conda is ignoring the .* and treating it as 2.21.0\n",
      "WARNING conda.models.version:get_matcher(563): Using .* with relational operator is superfluous and deprecated and will be removed in a future version of conda. Your spec was 3.11.0.*, but conda is ignoring the .* and treating it as 3.11.0\n",
      "WARNING conda.models.version:get_matcher(563): Using .* with relational operator is superfluous and deprecated and will be removed in a future version of conda. Your spec was 3.49.0.*, but conda is ignoring the .* and treating it as 3.49.0\n",
      "WARNING conda.models.version:get_matcher(563): Using .* with relational operator is superfluous and deprecated and will be removed in a future version of conda. Your spec was 0.3.0.*, but conda is ignoring the .* and treating it as 0.3.0\n",
      "WARNING conda.models.version:get_matcher(563): Using .* with relational operator is superfluous and deprecated and will be removed in a future version of conda. Your spec was 3.9.0.*, but conda is ignoring the .* and treating it as 3.9.0\n",
      "WARNING conda.models.version:get_matcher(563): Using .* with relational operator is superfluous and deprecated and will be removed in a future version of conda. Your spec was 5.1.0.*, but conda is ignoring the .* and treating it as 5.1.0\n",
      "WARNING conda.models.version:get_matcher(563): Using .* with relational operator is superfluous and deprecated and will be removed in a future version of conda. Your spec was 0.51.0.*, but conda is ignoring the .* and treating it as 0.51.0\n",
      "WARNING conda.models.version:get_matcher(563): Using .* with relational operator is superfluous and deprecated and will be removed in a future version of conda. Your spec was 4.4.0.*, but conda is ignoring the .* and treating it as 4.4.0\n",
      "WARNING conda.models.version:get_matcher(563): Using .* with relational operator is superfluous and deprecated and will be removed in a future version of conda. Your spec was 4.5.0.*, but conda is ignoring the .* and treating it as 4.5.0\n",
      "WARNING conda.models.version:get_matcher(563): Using .* with relational operator is superfluous and deprecated and will be removed in a future version of conda. Your spec was 2.11.0.*, but conda is ignoring the .* and treating it as 2.11.0\n",
      "WARNING conda.models.version:get_matcher(563): Using .* with relational operator is superfluous and deprecated and will be removed in a future version of conda. Your spec was 2.30.0.*, but conda is ignoring the .* and treating it as 2.30.0\n",
      "WARNING conda.models.version:get_matcher(563): Using .* with relational operator is superfluous and deprecated and will be removed in a future version of conda. Your spec was 3.2.0.*, but conda is ignoring the .* and treating it as 3.2.0\n",
      "WARNING conda.models.version:get_matcher(563): Using .* with relational operator is superfluous and deprecated and will be removed in a future version of conda. Your spec was 8.2.0.*, but conda is ignoring the .* and treating it as 8.2.0\n",
      "WARNING conda.models.version:get_matcher(563): Using .* with relational operator is superfluous and deprecated and will be removed in a future version of conda. Your spec was 8.33.0.*, but conda is ignoring the .* and treating it as 8.33.0\n",
      "WARNING conda.models.version:get_matcher(563): Using .* with relational operator is superfluous and deprecated and will be removed in a future version of conda. Your spec was 1.17.0.*, but conda is ignoring the .* and treating it as 1.17.0\n",
      "WARNING conda.models.version:get_matcher(563): Using .* with relational operator is superfluous and deprecated and will be removed in a future version of conda. Your spec was 0.116.0.*, but conda is ignoring the .* and treating it as 0.116.0\n",
      "WARNING conda.models.version:get_matcher(563): Using .* with relational operator is superfluous and deprecated and will be removed in a future version of conda. Your spec was 0.4.2.*, but conda is ignoring the .* and treating it as 0.4.2\n",
      "WARNING conda.models.version:get_matcher(563): Using .* with relational operator is superfluous and deprecated and will be removed in a future version of conda. Your spec was 27.6.0.*, but conda is ignoring the .* and treating it as 27.6.0\n",
      "WARNING conda.models.version:get_matcher(563): Using .* with relational operator is superfluous and deprecated and will be removed in a future version of conda. Your spec was 2.18.1.*, but conda is ignoring the .* and treating it as 2.18.1\n",
      "WARNING conda.models.version:get_matcher(563): Using .* with relational operator is superfluous and deprecated and will be removed in a future version of conda. Your spec was 1.3.0.*, but conda is ignoring the .* and treating it as 1.3.0\n",
      "WARNING conda.models.version:get_matcher(563): Using .* with relational operator is superfluous and deprecated and will be removed in a future version of conda. Your spec was 1.37.0.*, but conda is ignoring the .* and treating it as 1.37.0\n",
      "WARNING conda.models.version:get_matcher(563): Using .* with relational operator is superfluous and deprecated and will be removed in a future version of conda. Your spec was 1.1.0.*, but conda is ignoring the .* and treating it as 1.1.0\n",
      "WARNING conda.models.version:get_matcher(563): Using .* with relational operator is superfluous and deprecated and will be removed in a future version of conda. Your spec was 3.5.0.*, but conda is ignoring the .* and treating it as 3.5.0\n",
      "WARNING conda.models.version:get_matcher(563): Using .* with relational operator is superfluous and deprecated and will be removed in a future version of conda. Your spec was 5.6.0.*, but conda is ignoring the .* and treating it as 5.6.0\n",
      "failed\n",
      "\n",
      "LibMambaUnsatisfiableError: Encountered problems while solving:\n",
      "  - nothing provides requested uvicorn >=0.34.0,<0.35.0.*\n",
      "  - nothing provides requested torchvision >=0.19.1,<0.20.0.*\n",
      "  - nothing provides requested tf-keras >=2.17.0,<2.18.0.*\n",
      "  - nothing provides requested tensorflow >=2.17.0,<2.18.0.*\n",
      "  - nothing provides requested supervisor >=4.2.5,<4.3.0.*\n",
      "  - nothing provides requested sentencepiece >=0.1.99,<0.2.0.*\n",
      "  - nothing provides requested seaborn >=0.13.2,<0.14.0.*\n",
      "  - nothing provides requested scipy >=1.15.2,<1.16.0.*\n",
      "  - nothing provides requested scikit-learn >=1.5.2,<1.6.0.*\n",
      "  - nothing provides requested sagemaker-studio-analytics-extension >=0.1.5,<0.2.0.*\n",
      "  - nothing provides requested sagemaker-python-sdk >=2.240.0,<2.241.0.*\n",
      "  - nothing provides requested sagemaker-mlflow >=0.1.0,<0.2.0.*\n",
      "  - nothing provides requested sagemaker-kernel-wrapper >=0.0.5,<0.1.0.*\n",
      "  - nothing provides requested sagemaker-jupyterlab-extension >=0.4.0,<0.5.0.*\n",
      "  - nothing provides requested sagemaker-jupyterlab-emr-extension >=0.3.7,<0.4.0.*\n",
      "  - nothing provides requested sagemaker-headless-execution-driver >=0.0.13,<0.1.0.*\n",
      "  - nothing provides requested sagemaker-code-editor >=1.4.2,<1.5.0.*\n",
      "  - nothing provides requested s3fs >=2024.10.0,<2024.11.0.*\n",
      "  - nothing provides requested python-lsp-server >=1.12.2,<1.13.0.*\n",
      "  - nothing provides requested python-gssapi >=1.9.0,<1.10.0.*\n",
      "  - nothing provides requested pyhive >=0.7.0,<0.8.0.*\n",
      "  - nothing provides requested py-xgboost-cpu >=2.1.4,<2.2.0.*\n",
      "  - nothing provides requested pip >=24.3.1,<24.4.0.*\n",
      "  - nothing provides requested pandas >=2.2.3,<2.3.0.*\n",
      "  - nothing provides requested numpy >=1.26.4,<1.27.0.*\n",
      "  - nothing provides requested notebook >=7.3.2,<7.4.0.*\n",
      "  - nothing provides requested mlflow >=2.20.2,<2.21.0.*\n",
      "  - nothing provides requested matplotlib-base >=3.10.0,<3.11.0.*\n",
      "  - nothing provides requested libsqlite <3.49.0.*\n",
      "  - nothing provides requested libmamba >=1.5.11,<1.6.0.*\n",
      "  - nothing provides requested langchain-aws >=0.2.10,<0.3.0.*\n",
      "  - nothing provides requested langchain >=0.3.19,<0.4.0.*\n",
      "  - nothing provides requested keras >=3.8.0,<3.9.0.*\n",
      "  - nothing provides requested jupyterlab-lsp >=5.0.3,<5.1.0.*\n",
      "  - nothing provides requested jupyterlab-git >=0.50.2,<0.51.0.*\n",
      "  - nothing provides requested jupyterlab >=4.3.5,<4.4.0.*\n",
      "  - nothing provides requested jupyter-server-proxy >=4.4.0,<4.5.0.*\n",
      "  - nothing provides requested jupyter-scheduler >=2.10.0,<2.11.0.*\n",
      "  - nothing provides requested jupyter-lsp >=2.2.5,<2.3.0.*\n",
      "  - nothing provides requested jupyter-dash >=0.4.2,<0.5.0.*\n",
      "  - nothing provides requested jupyter-collaboration >=2.1.5,<2.2.0.*\n",
      "  - nothing provides requested jupyter-ai >=2.29.1,<2.30.0.*\n",
      "  - nothing provides requested jupyter-activity-monitor-extension >=0.3.1,<0.4.0.*\n",
      "  - nothing provides requested jinja2 >=3.1.5,<3.2.0.*\n",
      "  - nothing provides requested ipywidgets >=8.1.5,<8.2.0.*\n",
      "  - nothing provides requested ipython >=8.32.0,<8.33.0.*\n",
      "  - nothing provides requested git-remote-codecommit >=1.16,<1.17.0.*\n",
      "  - nothing provides requested fastapi >=0.115.8,<0.116.0.*\n",
      "  - nothing provides requested evaluate <0.4.2.*\n",
      "  - nothing provides requested docker-cli >=27.5.1,<27.6.0.*\n",
      "  - nothing provides requested dash <=2.18.1.*\n",
      "  - nothing provides requested catboost >=1.1.1,<1.3.0.*\n",
      "  - nothing provides requested boto3 >=1.36.3,<1.37.0.*\n",
      "  - nothing provides requested aws-glue-sessions >=1.0.8,<1.1.0.*\n",
      "  - nothing provides requested autogluon >=1.2.0,<1.3.0.*\n",
      "  - nothing provides requested amazon_sagemaker_sql_editor >=0.1.15,<0.2.0.*\n",
      "  - nothing provides requested amazon-sagemaker-sql-magic >=0.1.3,<0.2.0.*\n",
      "  - nothing provides requested amazon-sagemaker-jupyter-scheduler >=3.1.9,<3.2.0.*\n",
      "  - nothing provides requested amazon-sagemaker-jupyter-ai-q-developer >=1.0.16,<1.1.0.*\n",
      "  - nothing provides requested amazon-q-developer-jupyterlab-ext >=3.4.6,<3.5.0.*\n",
      "  - nothing provides requested altair >=5.5.0,<5.6.0.*\n",
      "  - package pytorch-1.6.0-py3.6_cpu_0 requires python >=3.6,<3.7.0a0, but none of the providers can be installed\n",
      "\n",
      "Could not solve for environment specs\n",
      "The following packages are incompatible\n",
      "├─ \u001b[31maltair >=5.5.0,<5.6.0.* \u001b[0m does not exist (perhaps a typo or a missing channel);\n",
      "├─ \u001b[31mamazon-q-developer-jupyterlab-ext >=3.4.6,<3.5.0.* \u001b[0m does not exist (perhaps a typo or a missing channel);\n",
      "├─ \u001b[31mamazon-sagemaker-jupyter-ai-q-developer >=1.0.16,<1.1.0.* \u001b[0m does not exist (perhaps a typo or a missing channel);\n",
      "├─ \u001b[31mamazon-sagemaker-jupyter-scheduler >=3.1.9,<3.2.0.* \u001b[0m does not exist (perhaps a typo or a missing channel);\n",
      "├─ \u001b[31mamazon-sagemaker-sql-magic >=0.1.3,<0.2.0.* \u001b[0m does not exist (perhaps a typo or a missing channel);\n",
      "├─ \u001b[31mamazon_sagemaker_sql_editor >=0.1.15,<0.2.0.* \u001b[0m does not exist (perhaps a typo or a missing channel);\n",
      "├─ \u001b[31mautogluon >=1.2.0,<1.3.0.* \u001b[0m does not exist (perhaps a typo or a missing channel);\n",
      "├─ \u001b[31maws-glue-sessions >=1.0.8,<1.1.0.* \u001b[0m does not exist (perhaps a typo or a missing channel);\n",
      "├─ \u001b[31mboto3 >=1.36.3,<1.37.0.* \u001b[0m does not exist (perhaps a typo or a missing channel);\n",
      "├─ \u001b[31mcatboost >=1.1.1,<1.3.0.* \u001b[0m does not exist (perhaps a typo or a missing channel);\n",
      "├─ \u001b[31mdash <=2.18.1.* \u001b[0m does not exist (perhaps a typo or a missing channel);\n",
      "├─ \u001b[31mdocker-cli >=27.5.1,<27.6.0.* \u001b[0m does not exist (perhaps a typo or a missing channel);\n",
      "├─ \u001b[31mevaluate <0.4.2.* \u001b[0m does not exist (perhaps a typo or a missing channel);\n",
      "├─ \u001b[31mfastapi >=0.115.8,<0.116.0.* \u001b[0m does not exist (perhaps a typo or a missing channel);\n",
      "├─ \u001b[31mgit-remote-codecommit >=1.16,<1.17.0.* \u001b[0m does not exist (perhaps a typo or a missing channel);\n",
      "├─ \u001b[31mipython >=8.32.0,<8.33.0.* \u001b[0m does not exist (perhaps a typo or a missing channel);\n",
      "├─ \u001b[31mipywidgets >=8.1.5,<8.2.0.* \u001b[0m does not exist (perhaps a typo or a missing channel);\n",
      "├─ \u001b[31mjinja2 >=3.1.5,<3.2.0.* \u001b[0m does not exist (perhaps a typo or a missing channel);\n",
      "├─ \u001b[31mjupyter-activity-monitor-extension >=0.3.1,<0.4.0.* \u001b[0m does not exist (perhaps a typo or a missing channel);\n",
      "├─ \u001b[31mjupyter-ai >=2.29.1,<2.30.0.* \u001b[0m does not exist (perhaps a typo or a missing channel);\n",
      "├─ \u001b[31mjupyter-collaboration >=2.1.5,<2.2.0.* \u001b[0m does not exist (perhaps a typo or a missing channel);\n",
      "├─ \u001b[31mjupyter-dash >=0.4.2,<0.5.0.* \u001b[0m does not exist (perhaps a typo or a missing channel);\n",
      "├─ \u001b[31mjupyter-lsp >=2.2.5,<2.3.0.* \u001b[0m does not exist (perhaps a typo or a missing channel);\n",
      "├─ \u001b[31mjupyter-scheduler >=2.10.0,<2.11.0.* \u001b[0m does not exist (perhaps a typo or a missing channel);\n",
      "├─ \u001b[31mjupyter-server-proxy >=4.4.0,<4.5.0.* \u001b[0m does not exist (perhaps a typo or a missing channel);\n",
      "├─ \u001b[31mjupyterlab-git >=0.50.2,<0.51.0.* \u001b[0m does not exist (perhaps a typo or a missing channel);\n",
      "├─ \u001b[31mjupyterlab-lsp >=5.0.3,<5.1.0.* \u001b[0m does not exist (perhaps a typo or a missing channel);\n",
      "├─ \u001b[31mjupyterlab >=4.3.5,<4.4.0.* \u001b[0m does not exist (perhaps a typo or a missing channel);\n",
      "├─ \u001b[31mkeras >=3.8.0,<3.9.0.* \u001b[0m does not exist (perhaps a typo or a missing channel);\n",
      "├─ \u001b[31mlangchain-aws >=0.2.10,<0.3.0.* \u001b[0m does not exist (perhaps a typo or a missing channel);\n",
      "├─ \u001b[31mlangchain >=0.3.19,<0.4.0.* \u001b[0m does not exist (perhaps a typo or a missing channel);\n",
      "├─ \u001b[31mlibmamba >=1.5.11,<1.6.0.* \u001b[0m does not exist (perhaps a typo or a missing channel);\n",
      "├─ \u001b[31mlibsqlite <3.49.0.* \u001b[0m does not exist (perhaps a typo or a missing channel);\n",
      "├─ \u001b[31mmatplotlib-base >=3.10.0,<3.11.0.* \u001b[0m does not exist (perhaps a typo or a missing channel);\n",
      "├─ \u001b[31mmlflow >=2.20.2,<2.21.0.* \u001b[0m does not exist (perhaps a typo or a missing channel);\n",
      "├─ \u001b[31mnotebook >=7.3.2,<7.4.0.* \u001b[0m does not exist (perhaps a typo or a missing channel);\n",
      "├─ \u001b[31mnumpy >=1.26.4,<1.27.0.* \u001b[0m does not exist (perhaps a typo or a missing channel);\n",
      "├─ \u001b[31mpandas >=2.2.3,<2.3.0.* \u001b[0m does not exist (perhaps a typo or a missing channel);\n",
      "├─ \u001b[32mpin-1\u001b[0m is installable and it requires\n",
      "│  └─ \u001b[32mpython 3.11.* \u001b[0m, which can be installed;\n",
      "├─ \u001b[31mpip >=24.3.1,<24.4.0.* \u001b[0m does not exist (perhaps a typo or a missing channel);\n",
      "├─ \u001b[31mpy-xgboost-cpu >=2.1.4,<2.2.0.* \u001b[0m does not exist (perhaps a typo or a missing channel);\n",
      "├─ \u001b[31mpyhive >=0.7.0,<0.8.0.* \u001b[0m does not exist (perhaps a typo or a missing channel);\n",
      "├─ \u001b[31mpython-gssapi >=1.9.0,<1.10.0.* \u001b[0m does not exist (perhaps a typo or a missing channel);\n",
      "├─ \u001b[31mpython-lsp-server >=1.12.2,<1.13.0.* \u001b[0m does not exist (perhaps a typo or a missing channel);\n",
      "├─ \u001b[31mpytorch 1.6.0 \u001b[0m is not installable because there are no viable options\n",
      "│  ├─ \u001b[31mpytorch 1.6.0\u001b[0m would require\n",
      "│  │  └─ \u001b[31mpython >=3.6,<3.7.0a0 \u001b[0m, which conflicts with any installable versions previously reported;\n",
      "│  ├─ \u001b[31mpytorch 1.6.0\u001b[0m would require\n",
      "│  │  └─ \u001b[31mpython >=3.7,<3.8.0a0 \u001b[0m, which conflicts with any installable versions previously reported;\n",
      "│  ├─ \u001b[31mpytorch 1.6.0\u001b[0m would require\n",
      "│  │  └─ \u001b[31mpython >=3.8,<3.9.0a0 \u001b[0m, which conflicts with any installable versions previously reported;\n",
      "│  └─ \u001b[31mpytorch 1.6.0\u001b[0m would require\n",
      "│     └─ \u001b[31mpython >=3.9,<3.10.0a0 \u001b[0m, which conflicts with any installable versions previously reported;\n",
      "├─ \u001b[31ms3fs >=2024.10.0,<2024.11.0.* \u001b[0m does not exist (perhaps a typo or a missing channel);\n",
      "├─ \u001b[31msagemaker-code-editor >=1.4.2,<1.5.0.* \u001b[0m does not exist (perhaps a typo or a missing channel);\n",
      "├─ \u001b[31msagemaker-headless-execution-driver >=0.0.13,<0.1.0.* \u001b[0m does not exist (perhaps a typo or a missing channel);\n",
      "├─ \u001b[31msagemaker-jupyterlab-emr-extension >=0.3.7,<0.4.0.* \u001b[0m does not exist (perhaps a typo or a missing channel);\n",
      "├─ \u001b[31msagemaker-jupyterlab-extension >=0.4.0,<0.5.0.* \u001b[0m does not exist (perhaps a typo or a missing channel);\n",
      "├─ \u001b[31msagemaker-kernel-wrapper >=0.0.5,<0.1.0.* \u001b[0m does not exist (perhaps a typo or a missing channel);\n",
      "├─ \u001b[31msagemaker-mlflow >=0.1.0,<0.2.0.* \u001b[0m does not exist (perhaps a typo or a missing channel);\n",
      "├─ \u001b[31msagemaker-python-sdk >=2.240.0,<2.241.0.* \u001b[0m does not exist (perhaps a typo or a missing channel);\n",
      "├─ \u001b[31msagemaker-studio-analytics-extension >=0.1.5,<0.2.0.* \u001b[0m does not exist (perhaps a typo or a missing channel);\n",
      "├─ \u001b[31mscikit-learn >=1.5.2,<1.6.0.* \u001b[0m does not exist (perhaps a typo or a missing channel);\n",
      "├─ \u001b[31mscipy >=1.15.2,<1.16.0.* \u001b[0m does not exist (perhaps a typo or a missing channel);\n",
      "├─ \u001b[31mseaborn >=0.13.2,<0.14.0.* \u001b[0m does not exist (perhaps a typo or a missing channel);\n",
      "├─ \u001b[31msentencepiece >=0.1.99,<0.2.0.* \u001b[0m does not exist (perhaps a typo or a missing channel);\n",
      "├─ \u001b[31msupervisor >=4.2.5,<4.3.0.* \u001b[0m does not exist (perhaps a typo or a missing channel);\n",
      "├─ \u001b[31mtensorflow >=2.17.0,<2.18.0.* \u001b[0m does not exist (perhaps a typo or a missing channel);\n",
      "├─ \u001b[31mtf-keras >=2.17.0,<2.18.0.* \u001b[0m does not exist (perhaps a typo or a missing channel);\n",
      "├─ \u001b[31mtorchvision >=0.19.1,<0.20.0.* \u001b[0m does not exist (perhaps a typo or a missing channel);\n",
      "└─ \u001b[31muvicorn >=0.34.0,<0.35.0.* \u001b[0m does not exist (perhaps a typo or a missing channel).\n",
      "\n"
     ]
    }
   ],
   "source": [
    "!conda install -y pytorch==1.6.0 -c pytorch"
   ]
  },
  {
   "cell_type": "markdown",
   "metadata": {},
   "source": [
    "# TensorFlow"
   ]
  },
  {
   "cell_type": "code",
   "execution_count": 7,
   "metadata": {},
   "outputs": [
    {
     "name": "stdout",
     "output_type": "stream",
     "text": [
      "shell-init: error retrieving current directory: getcwd: cannot access parent directories: No such file or directory\n",
      "The folder you are executing pip from can no longer be found.\n"
     ]
    }
   ],
   "source": [
    "!pip install --disable-pip-version-check -q tensorflow==2.8.1"
   ]
  },
  {
   "cell_type": "markdown",
   "metadata": {},
   "source": [
    "# Hugging Face Transformers (BERT)"
   ]
  },
  {
   "cell_type": "code",
   "execution_count": 8,
   "metadata": {},
   "outputs": [
    {
     "name": "stdout",
     "output_type": "stream",
     "text": [
      "shell-init: error retrieving current directory: getcwd: cannot access parent directories: No such file or directory\n",
      "The folder you are executing pip from can no longer be found.\n"
     ]
    }
   ],
   "source": [
    "!pip install --disable-pip-version-check -q transformers==3.5.1"
   ]
  },
  {
   "cell_type": "markdown",
   "metadata": {},
   "source": [
    "# TorchServe"
   ]
  },
  {
   "cell_type": "code",
   "execution_count": 9,
   "metadata": {},
   "outputs": [
    {
     "name": "stdout",
     "output_type": "stream",
     "text": [
      "shell-init: error retrieving current directory: getcwd: cannot access parent directories: No such file or directory\n",
      "The folder you are executing pip from can no longer be found.\n",
      "shell-init: error retrieving current directory: getcwd: cannot access parent directories: No such file or directory\n",
      "The folder you are executing pip from can no longer be found.\n"
     ]
    }
   ],
   "source": [
    "!pip install --disable-pip-version-check -q torchserve==0.3.0\n",
    "!pip install --disable-pip-version-check -q torch-model-archiver==0.3.0"
   ]
  },
  {
   "cell_type": "markdown",
   "metadata": {},
   "source": [
    "# PyAthena"
   ]
  },
  {
   "cell_type": "code",
   "execution_count": 10,
   "metadata": {},
   "outputs": [
    {
     "name": "stdout",
     "output_type": "stream",
     "text": [
      "shell-init: error retrieving current directory: getcwd: cannot access parent directories: No such file or directory\n",
      "The folder you are executing pip from can no longer be found.\n"
     ]
    }
   ],
   "source": [
    "!pip install --disable-pip-version-check -q PyAthena==2.1.0"
   ]
  },
  {
   "cell_type": "markdown",
   "metadata": {},
   "source": [
    "# Redshift"
   ]
  },
  {
   "cell_type": "code",
   "execution_count": 11,
   "metadata": {},
   "outputs": [
    {
     "name": "stdout",
     "output_type": "stream",
     "text": [
      "shell-init: error retrieving current directory: getcwd: cannot access parent directories: No such file or directory\n",
      "The folder you are executing pip from can no longer be found.\n"
     ]
    }
   ],
   "source": [
    "!pip install --disable-pip-version-check -q SQLAlchemy==1.3.22"
   ]
  },
  {
   "cell_type": "markdown",
   "metadata": {},
   "source": [
    "# AWS Data Wrangler"
   ]
  },
  {
   "cell_type": "code",
   "execution_count": 12,
   "metadata": {},
   "outputs": [
    {
     "name": "stdout",
     "output_type": "stream",
     "text": [
      "shell-init: error retrieving current directory: getcwd: cannot access parent directories: No such file or directory\n",
      "The folder you are executing pip from can no longer be found.\n"
     ]
    }
   ],
   "source": [
    "!pip install --disable-pip-version-check -q awswrangler==2.15.0"
   ]
  },
  {
   "cell_type": "markdown",
   "metadata": {},
   "source": [
    "# StepFunctions"
   ]
  },
  {
   "cell_type": "code",
   "execution_count": 13,
   "metadata": {},
   "outputs": [
    {
     "name": "stdout",
     "output_type": "stream",
     "text": [
      "shell-init: error retrieving current directory: getcwd: cannot access parent directories: No such file or directory\n",
      "The folder you are executing pip from can no longer be found.\n"
     ]
    }
   ],
   "source": [
    "!pip install --disable-pip-version-check -q stepfunctions==2.0.0rc1"
   ]
  },
  {
   "cell_type": "markdown",
   "metadata": {},
   "source": [
    "# Zip"
   ]
  },
  {
   "cell_type": "code",
   "execution_count": 14,
   "metadata": {},
   "outputs": [
    {
     "name": "stdout",
     "output_type": "stream",
     "text": [
      "shell-init: error retrieving current directory: getcwd: cannot access parent directories: No such file or directory\n",
      "Channels:\n",
      " - conda-forge\n",
      "Platform: linux-64\n",
      "doneecting package metadata (repodata.json): - \n",
      "| WARNING conda.models.version:get_matcher(563): Using .* with relational operator is superfluous and deprecated and will be removed in a future version of conda. Your spec was 0.35.0.*, but conda is ignoring the .* and treating it as 0.35.0\n",
      "WARNING conda.models.version:get_matcher(563): Using .* with relational operator is superfluous and deprecated and will be removed in a future version of conda. Your spec was 0.20.0.*, but conda is ignoring the .* and treating it as 0.20.0\n",
      "WARNING conda.models.version:get_matcher(563): Using .* with relational operator is superfluous and deprecated and will be removed in a future version of conda. Your spec was 2.18.0.*, but conda is ignoring the .* and treating it as 2.18.0\n",
      "WARNING conda.models.version:get_matcher(563): Using .* with relational operator is superfluous and deprecated and will be removed in a future version of conda. Your spec was 4.3.0.*, but conda is ignoring the .* and treating it as 4.3.0\n",
      "WARNING conda.models.version:get_matcher(563): Using .* with relational operator is superfluous and deprecated and will be removed in a future version of conda. Your spec was 0.2.0.*, but conda is ignoring the .* and treating it as 0.2.0\n",
      "WARNING conda.models.version:get_matcher(563): Using .* with relational operator is superfluous and deprecated and will be removed in a future version of conda. Your spec was 0.14.0.*, but conda is ignoring the .* and treating it as 0.14.0\n",
      "WARNING conda.models.version:get_matcher(563): Using .* with relational operator is superfluous and deprecated and will be removed in a future version of conda. Your spec was 1.16.0.*, but conda is ignoring the .* and treating it as 1.16.0\n",
      "WARNING conda.models.version:get_matcher(563): Using .* with relational operator is superfluous and deprecated and will be removed in a future version of conda. Your spec was 1.6.0.*, but conda is ignoring the .* and treating it as 1.6.0\n",
      "WARNING conda.models.version:get_matcher(563): Using .* with relational operator is superfluous and deprecated and will be removed in a future version of conda. Your spec was 2.241.0.*, but conda is ignoring the .* and treating it as 2.241.0\n",
      "WARNING conda.models.version:get_matcher(563): Using .* with relational operator is superfluous and deprecated and will be removed in a future version of conda. Your spec was 0.1.0.*, but conda is ignoring the .* and treating it as 0.1.0\n",
      "WARNING conda.models.version:get_matcher(563): Using .* with relational operator is superfluous and deprecated and will be removed in a future version of conda. Your spec was 0.5.0.*, but conda is ignoring the .* and treating it as 0.5.0\n",
      "WARNING conda.models.version:get_matcher(563): Using .* with relational operator is superfluous and deprecated and will be removed in a future version of conda. Your spec was 0.4.0.*, but conda is ignoring the .* and treating it as 0.4.0\n",
      "WARNING conda.models.version:get_matcher(563): Using .* with relational operator is superfluous and deprecated and will be removed in a future version of conda. Your spec was 1.5.0.*, but conda is ignoring the .* and treating it as 1.5.0\n",
      "WARNING conda.models.version:get_matcher(563): Using .* with relational operator is superfluous and deprecated and will be removed in a future version of conda. Your spec was 2024.11.0.*, but conda is ignoring the .* and treating it as 2024.11.0\n",
      "WARNING conda.models.version:get_matcher(563): Using .* with relational operator is superfluous and deprecated and will be removed in a future version of conda. Your spec was 2.5.0.*, but conda is ignoring the .* and treating it as 2.5.0\n",
      "WARNING conda.models.version:get_matcher(563): Using .* with relational operator is superfluous and deprecated and will be removed in a future version of conda. Your spec was 1.13.0.*, but conda is ignoring the .* and treating it as 1.13.0\n",
      "WARNING conda.models.version:get_matcher(563): Using .* with relational operator is superfluous and deprecated and will be removed in a future version of conda. Your spec was 1.10.0.*, but conda is ignoring the .* and treating it as 1.10.0\n",
      "WARNING conda.models.version:get_matcher(563): Using .* with relational operator is superfluous and deprecated and will be removed in a future version of conda. Your spec was 0.8.0.*, but conda is ignoring the .* and treating it as 0.8.0\n",
      "WARNING conda.models.version:get_matcher(563): Using .* with relational operator is superfluous and deprecated and will be removed in a future version of conda. Your spec was 2.2.0.*, but conda is ignoring the .* and treating it as 2.2.0\n",
      "WARNING conda.models.version:get_matcher(563): Using .* with relational operator is superfluous and deprecated and will be removed in a future version of conda. Your spec was 24.4.0.*, but conda is ignoring the .* and treating it as 24.4.0\n",
      "WARNING conda.models.version:get_matcher(563): Using .* with relational operator is superfluous and deprecated and will be removed in a future version of conda. Your spec was 2.3.0.*, but conda is ignoring the .* and treating it as 2.3.0\n",
      "WARNING conda.models.version:get_matcher(563): Using .* with relational operator is superfluous and deprecated and will be removed in a future version of conda. Your spec was 1.27.0.*, but conda is ignoring the .* and treating it as 1.27.0\n",
      "WARNING conda.models.version:get_matcher(563): Using .* with relational operator is superfluous and deprecated and will be removed in a future version of conda. Your spec was 7.4.0.*, but conda is ignoring the .* and treating it as 7.4.0\n",
      "WARNING conda.models.version:get_matcher(563): Using .* with relational operator is superfluous and deprecated and will be removed in a future version of conda. Your spec was 2.21.0.*, but conda is ignoring the .* and treating it as 2.21.0\n",
      "WARNING conda.models.version:get_matcher(563): Using .* with relational operator is superfluous and deprecated and will be removed in a future version of conda. Your spec was 3.11.0.*, but conda is ignoring the .* and treating it as 3.11.0\n",
      "WARNING conda.models.version:get_matcher(563): Using .* with relational operator is superfluous and deprecated and will be removed in a future version of conda. Your spec was 3.49.0.*, but conda is ignoring the .* and treating it as 3.49.0\n",
      "WARNING conda.models.version:get_matcher(563): Using .* with relational operator is superfluous and deprecated and will be removed in a future version of conda. Your spec was 0.3.0.*, but conda is ignoring the .* and treating it as 0.3.0\n",
      "WARNING conda.models.version:get_matcher(563): Using .* with relational operator is superfluous and deprecated and will be removed in a future version of conda. Your spec was 3.9.0.*, but conda is ignoring the .* and treating it as 3.9.0\n",
      "WARNING conda.models.version:get_matcher(563): Using .* with relational operator is superfluous and deprecated and will be removed in a future version of conda. Your spec was 5.1.0.*, but conda is ignoring the .* and treating it as 5.1.0\n",
      "WARNING conda.models.version:get_matcher(563): Using .* with relational operator is superfluous and deprecated and will be removed in a future version of conda. Your spec was 0.51.0.*, but conda is ignoring the .* and treating it as 0.51.0\n",
      "WARNING conda.models.version:get_matcher(563): Using .* with relational operator is superfluous and deprecated and will be removed in a future version of conda. Your spec was 4.4.0.*, but conda is ignoring the .* and treating it as 4.4.0\n",
      "WARNING conda.models.version:get_matcher(563): Using .* with relational operator is superfluous and deprecated and will be removed in a future version of conda. Your spec was 4.5.0.*, but conda is ignoring the .* and treating it as 4.5.0\n",
      "WARNING conda.models.version:get_matcher(563): Using .* with relational operator is superfluous and deprecated and will be removed in a future version of conda. Your spec was 2.11.0.*, but conda is ignoring the .* and treating it as 2.11.0\n",
      "WARNING conda.models.version:get_matcher(563): Using .* with relational operator is superfluous and deprecated and will be removed in a future version of conda. Your spec was 2.30.0.*, but conda is ignoring the .* and treating it as 2.30.0\n",
      "WARNING conda.models.version:get_matcher(563): Using .* with relational operator is superfluous and deprecated and will be removed in a future version of conda. Your spec was 3.2.0.*, but conda is ignoring the .* and treating it as 3.2.0\n",
      "WARNING conda.models.version:get_matcher(563): Using .* with relational operator is superfluous and deprecated and will be removed in a future version of conda. Your spec was 8.2.0.*, but conda is ignoring the .* and treating it as 8.2.0\n",
      "WARNING conda.models.version:get_matcher(563): Using .* with relational operator is superfluous and deprecated and will be removed in a future version of conda. Your spec was 8.33.0.*, but conda is ignoring the .* and treating it as 8.33.0\n",
      "WARNING conda.models.version:get_matcher(563): Using .* with relational operator is superfluous and deprecated and will be removed in a future version of conda. Your spec was 1.17.0.*, but conda is ignoring the .* and treating it as 1.17.0\n",
      "WARNING conda.models.version:get_matcher(563): Using .* with relational operator is superfluous and deprecated and will be removed in a future version of conda. Your spec was 0.116.0.*, but conda is ignoring the .* and treating it as 0.116.0\n",
      "WARNING conda.models.version:get_matcher(563): Using .* with relational operator is superfluous and deprecated and will be removed in a future version of conda. Your spec was 0.4.2.*, but conda is ignoring the .* and treating it as 0.4.2\n",
      "WARNING conda.models.version:get_matcher(563): Using .* with relational operator is superfluous and deprecated and will be removed in a future version of conda. Your spec was 27.6.0.*, but conda is ignoring the .* and treating it as 27.6.0\n",
      "WARNING conda.models.version:get_matcher(563): Using .* with relational operator is superfluous and deprecated and will be removed in a future version of conda. Your spec was 2.18.1.*, but conda is ignoring the .* and treating it as 2.18.1\n",
      "WARNING conda.models.version:get_matcher(563): Using .* with relational operator is superfluous and deprecated and will be removed in a future version of conda. Your spec was 1.3.0.*, but conda is ignoring the .* and treating it as 1.3.0\n",
      "WARNING conda.models.version:get_matcher(563): Using .* with relational operator is superfluous and deprecated and will be removed in a future version of conda. Your spec was 1.37.0.*, but conda is ignoring the .* and treating it as 1.37.0\n",
      "WARNING conda.models.version:get_matcher(563): Using .* with relational operator is superfluous and deprecated and will be removed in a future version of conda. Your spec was 1.1.0.*, but conda is ignoring the .* and treating it as 1.1.0\n",
      "WARNING conda.models.version:get_matcher(563): Using .* with relational operator is superfluous and deprecated and will be removed in a future version of conda. Your spec was 3.5.0.*, but conda is ignoring the .* and treating it as 3.5.0\n",
      "WARNING conda.models.version:get_matcher(563): Using .* with relational operator is superfluous and deprecated and will be removed in a future version of conda. Your spec was 5.6.0.*, but conda is ignoring the .* and treating it as 5.6.0\n",
      "failed\n",
      "\n",
      "PackagesNotFoundError: The following packages are not available from current channels:\n",
      "\n",
      "  - uvicorn[version='>=0.34.0,<0.35.0.*']\n",
      "  - torchvision[version='>=0.19.1,<0.20.0.*']\n",
      "  - tf-keras[version='>=2.17.0,<2.18.0.*']\n",
      "  - tensorflow[version='>=2.17.0,<2.18.0.*']\n",
      "  - supervisor[version='>=4.2.5,<4.3.0.*']\n",
      "  - sentencepiece[version='>=0.1.99,<0.2.0.*']\n",
      "  - seaborn[version='>=0.13.2,<0.14.0.*']\n",
      "  - scipy[version='>=1.15.2,<1.16.0.*']\n",
      "  - scikit-learn[version='>=1.5.2,<1.6.0.*']\n",
      "  - sagemaker-studio-analytics-extension[version='>=0.1.5,<0.2.0.*']\n",
      "  - sagemaker-python-sdk[version='>=2.240.0,<2.241.0.*']\n",
      "  - sagemaker-mlflow[version='>=0.1.0,<0.2.0.*']\n",
      "  - sagemaker-kernel-wrapper[version='>=0.0.5,<0.1.0.*']\n",
      "  - sagemaker-jupyterlab-extension[version='>=0.4.0,<0.5.0.*']\n",
      "  - sagemaker-jupyterlab-emr-extension[version='>=0.3.7,<0.4.0.*']\n",
      "  - sagemaker-headless-execution-driver[version='>=0.0.13,<0.1.0.*']\n",
      "  - sagemaker-code-editor[version='>=1.4.2,<1.5.0.*']\n",
      "  - s3fs[version='>=2024.10.0,<2024.11.0.*']\n",
      "  - pytorch[version='>=2.4.1,<2.5.0.*']\n",
      "  - python-lsp-server[version='>=1.12.2,<1.13.0.*']\n",
      "  - python-gssapi[version='>=1.9.0,<1.10.0.*']\n",
      "  - pyhive[version='>=0.7.0,<0.8.0.*']\n",
      "  - py-xgboost-cpu[version='>=2.1.4,<2.2.0.*']\n",
      "  - pip[version='>=24.3.1,<24.4.0.*']\n",
      "  - pandas[version='>=2.2.3,<2.3.0.*']\n",
      "  - numpy[version='>=1.26.4,<1.27.0.*']\n",
      "  - notebook[version='>=7.3.2,<7.4.0.*']\n",
      "  - mlflow[version='>=2.20.2,<2.21.0.*']\n",
      "  - matplotlib-base[version='>=3.10.0,<3.11.0.*']\n",
      "  - libsqlite[version='<3.49.0.*']\n",
      "  - libmamba[version='>=1.5.11,<1.6.0.*']\n",
      "  - langchain-aws[version='>=0.2.10,<0.3.0.*']\n",
      "  - langchain[version='>=0.3.19,<0.4.0.*']\n",
      "  - keras[version='>=3.8.0,<3.9.0.*']\n",
      "  - jupyterlab-lsp[version='>=5.0.3,<5.1.0.*']\n",
      "  - jupyterlab-git[version='>=0.50.2,<0.51.0.*']\n",
      "  - jupyterlab[version='>=4.3.5,<4.4.0.*']\n",
      "  - jupyter-server-proxy[version='>=4.4.0,<4.5.0.*']\n",
      "  - jupyter-scheduler[version='>=2.10.0,<2.11.0.*']\n",
      "  - jupyter-lsp[version='>=2.2.5,<2.3.0.*']\n",
      "  - jupyter-dash[version='>=0.4.2,<0.5.0.*']\n",
      "  - jupyter-collaboration[version='>=2.1.5,<2.2.0.*']\n",
      "  - jupyter-ai[version='>=2.29.1,<2.30.0.*']\n",
      "  - jupyter-activity-monitor-extension[version='>=0.3.1,<0.4.0.*']\n",
      "  - jinja2[version='>=3.1.5,<3.2.0.*']\n",
      "  - ipywidgets[version='>=8.1.5,<8.2.0.*']\n",
      "  - ipython[version='>=8.32.0,<8.33.0.*']\n",
      "  - git-remote-codecommit[version='>=1.16,<1.17.0.*']\n",
      "  - fastapi[version='>=0.115.8,<0.116.0.*']\n",
      "  - evaluate[version='<0.4.2.*']\n",
      "  - docker-cli[version='>=27.5.1,<27.6.0.*']\n",
      "  - dash[version='<=2.18.1.*']\n",
      "  - catboost[version='>=1.1.1,<1.3.0.*']\n",
      "  - boto3[version='>=1.36.3,<1.37.0.*']\n",
      "  - aws-glue-sessions[version='>=1.0.8,<1.1.0.*']\n",
      "  - autogluon[version='>=1.2.0,<1.3.0.*']\n",
      "  - amazon_sagemaker_sql_editor[version='>=0.1.15,<0.2.0.*']\n",
      "  - amazon-sagemaker-sql-magic[version='>=0.1.3,<0.2.0.*']\n",
      "  - amazon-sagemaker-jupyter-scheduler[version='>=3.1.9,<3.2.0.*']\n",
      "  - amazon-sagemaker-jupyter-ai-q-developer[version='>=1.0.16,<1.1.0.*']\n",
      "  - amazon-q-developer-jupyterlab-ext[version='>=3.4.6,<3.5.0.*']\n",
      "  - altair[version='>=5.5.0,<5.6.0.*']\n",
      "\n",
      "Current channels:\n",
      "\n",
      "  - https://conda.anaconda.org/conda-forge\n",
      "\n",
      "To search for alternate channels that may provide the conda package you're\n",
      "looking for, navigate to\n",
      "\n",
      "    https://anaconda.org\n",
      "\n",
      "and use the search bar at the top of the page.\n",
      "\n",
      "\n"
     ]
    }
   ],
   "source": [
    "!conda install -y zip"
   ]
  },
  {
   "cell_type": "markdown",
   "metadata": {},
   "source": [
    "# Matplotlib"
   ]
  },
  {
   "cell_type": "code",
   "execution_count": 15,
   "metadata": {},
   "outputs": [
    {
     "name": "stdout",
     "output_type": "stream",
     "text": [
      "shell-init: error retrieving current directory: getcwd: cannot access parent directories: No such file or directory\n",
      "The folder you are executing pip from can no longer be found.\n"
     ]
    }
   ],
   "source": [
    "!pip install --disable-pip-version-check -q matplotlib==3.1.3"
   ]
  },
  {
   "cell_type": "markdown",
   "metadata": {},
   "source": [
    "# Seaborn"
   ]
  },
  {
   "cell_type": "code",
   "execution_count": 16,
   "metadata": {},
   "outputs": [
    {
     "name": "stdout",
     "output_type": "stream",
     "text": [
      "shell-init: error retrieving current directory: getcwd: cannot access parent directories: No such file or directory\n",
      "The folder you are executing pip from can no longer be found.\n"
     ]
    }
   ],
   "source": [
    "!pip install --disable-pip-version-check -q seaborn==0.10.0"
   ]
  },
  {
   "cell_type": "markdown",
   "metadata": {},
   "source": [
    "# Summarize"
   ]
  },
  {
   "cell_type": "code",
   "execution_count": 17,
   "metadata": {},
   "outputs": [
    {
     "name": "stdout",
     "output_type": "stream",
     "text": [
      "shell-init: error retrieving current directory: getcwd: cannot access parent directories: No such file or directory\n",
      "The folder you are executing pip from can no longer be found.\n",
      "shell-init: error retrieving current directory: getcwd: cannot access parent directories: No such file or directory\n",
      "Python 3.11.11\n"
     ]
    }
   ],
   "source": [
    "!pip install protobuf==3.20.*\n",
    "!python --version"
   ]
  },
  {
   "cell_type": "code",
   "execution_count": 18,
   "metadata": {
    "scrolled": true
   },
   "outputs": [
    {
     "name": "stdout",
     "output_type": "stream",
     "text": [
      "shell-init: error retrieving current directory: getcwd: cannot access parent directories: No such file or directory\n",
      "The folder you are executing pip from can no longer be found.\n"
     ]
    }
   ],
   "source": [
    "!pip list"
   ]
  },
  {
   "cell_type": "code",
   "execution_count": 19,
   "metadata": {},
   "outputs": [],
   "source": [
    "setup_dependencies_passed = True"
   ]
  },
  {
   "cell_type": "code",
   "execution_count": 20,
   "metadata": {},
   "outputs": [
    {
     "name": "stdout",
     "output_type": "stream",
     "text": [
      "Stored 'setup_dependencies_passed' (bool)\n"
     ]
    }
   ],
   "source": [
    "%store setup_dependencies_passed"
   ]
  },
  {
   "cell_type": "code",
   "execution_count": 21,
   "metadata": {},
   "outputs": [
    {
     "name": "stdout",
     "output_type": "stream",
     "text": [
      "Stored variables and their in-db values:\n",
      "setup_dependencies_passed             -> True\n"
     ]
    }
   ],
   "source": [
    "%store"
   ]
  },
  {
   "cell_type": "markdown",
   "metadata": {},
   "source": [
    "# Release Resources"
   ]
  },
  {
   "cell_type": "code",
   "execution_count": 22,
   "metadata": {},
   "outputs": [
    {
     "data": {
      "text/html": [
       "\n",
       "<p><b>Shutting down your kernel for this notebook to release resources.</b></p>\n",
       "<button class=\"sm-command-button\" data-commandlinker-command=\"kernelmenu:shutdown\" style=\"display:none;\">Shutdown Kernel</button>\n",
       "        \n",
       "<script>\n",
       "try {\n",
       "    els = document.getElementsByClassName(\"sm-command-button\");\n",
       "    els[0].click();\n",
       "}\n",
       "catch(err) {\n",
       "    // NoOp\n",
       "}    \n",
       "</script>\n"
      ],
      "text/plain": [
       "<IPython.core.display.HTML object>"
      ]
     },
     "metadata": {},
     "output_type": "display_data"
    }
   ],
   "source": [
    "%%html\n",
    "\n",
    "<p><b>Shutting down your kernel for this notebook to release resources.</b></p>\n",
    "<button class=\"sm-command-button\" data-commandlinker-command=\"kernelmenu:shutdown\" style=\"display:none;\">Shutdown Kernel</button>\n",
    "        \n",
    "<script>\n",
    "try {\n",
    "    els = document.getElementsByClassName(\"sm-command-button\");\n",
    "    els[0].click();\n",
    "}\n",
    "catch(err) {\n",
    "    // NoOp\n",
    "}    \n",
    "</script>"
   ]
  },
  {
   "cell_type": "code",
   "execution_count": 23,
   "metadata": {},
   "outputs": [
    {
     "data": {
      "application/javascript": [
       "\n",
       "try {\n",
       "    Jupyter.notebook.save_checkpoint();\n",
       "    Jupyter.notebook.session.delete();\n",
       "}\n",
       "catch(err) {\n",
       "    // NoOp\n",
       "}\n"
      ],
      "text/plain": [
       "<IPython.core.display.Javascript object>"
      ]
     },
     "metadata": {},
     "output_type": "display_data"
    }
   ],
   "source": [
    "%%javascript\n",
    "\n",
    "try {\n",
    "    Jupyter.notebook.save_checkpoint();\n",
    "    Jupyter.notebook.session.delete();\n",
    "}\n",
    "catch(err) {\n",
    "    // NoOp\n",
    "}"
   ]
  }
 ],
 "metadata": {
  "instance_type": "ml.t3.medium",
  "kernelspec": {
   "display_name": "Python 3 (ipykernel)",
   "language": "python",
   "name": "python3"
  },
  "language_info": {
   "codemirror_mode": {
    "name": "ipython",
    "version": 3
   },
   "file_extension": ".py",
   "mimetype": "text/x-python",
   "name": "python",
   "nbconvert_exporter": "python",
   "pygments_lexer": "ipython3",
   "version": "3.11.11"
  }
 },
 "nbformat": 4,
 "nbformat_minor": 4
}
