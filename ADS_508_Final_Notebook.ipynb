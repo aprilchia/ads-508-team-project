{
 "cells": [
  {
   "cell_type": "markdown",
   "metadata": {},
   "source": [
    "# LinkedIn Job Postings"
   ]
  },
  {
   "cell_type": "markdown",
   "metadata": {},
   "source": [
    "## ADS 508 Impacting the Business with a Distributed Data Science Pipeline"
   ]
  },
  {
   "cell_type": "code",
   "execution_count": null,
   "metadata": {
    "vscode": {
     "languageId": "plaintext"
    }
   },
   "outputs": [],
   "source": [
    "# Import packages\n",
    "import numpy as np\n",
    "import pandas as pandas\n",
    "import boto3\n",
    "import sagemaker\n",
    "from pyathena import connect"
   ]
  },
  {
   "cell_type": "markdown",
   "metadata": {},
   "source": [
    "## Data Ingestion"
   ]
  },
  {
   "cell_type": "markdown",
   "metadata": {},
   "source": [
    "### CSV to S3"
   ]
  },
  {
   "cell_type": "code",
   "execution_count": null,
   "metadata": {
    "vscode": {
     "languageId": "plaintext"
    }
   },
   "outputs": [],
   "source": [
    "# Setup boto3 session parameters\n",
    "session = sagemaker.Session()\n",
    "bucket = session.default_bucket()\n",
    "role = sagemaker.get_execution_role()\n",
    "region = boto3.Session().region_name\n",
    "account_id = boto3.client(\"sts\").get_caller_identity().get(\"Account\")\n",
    "\n",
    "# Establish connection\n",
    "sm = boto3.Session().client(service_name=\"sagemaker\", region_name=region)"
   ]
  },
  {
   "cell_type": "code",
   "execution_count": null,
   "metadata": {
    "vscode": {
     "languageId": "plaintext"
    }
   },
   "outputs": [],
   "source": [
    "# Set S3 Source Location (Public bucket)\n",
    "s3_public_path = \"s3://linkedin-postings/raw_data/\""
   ]
  },
  {
   "cell_type": "code",
   "execution_count": null,
   "metadata": {
    "vscode": {
     "languageId": "plaintext"
    }
   },
   "outputs": [],
   "source": [
    "# Set S3 Destination Location (Private bucket)\n",
    "s3_private_path = \"s3://{}/linkedin-postings/raw_data/\".format(bucket)\n",
    "print(s3_private_path)"
   ]
  },
  {
   "cell_type": "code",
   "execution_count": null,
   "metadata": {
    "vscode": {
     "languageId": "plaintext"
    }
   },
   "outputs": [],
   "source": [
    "# Copy data from Public S3 bucket to Private S3 bucket\n",
    "!aws s3 cp --recursive $s3_public_path/ $s3_private_path/ --exclude \"*\" --include \"postings.csv\"\n",
    "!aws s3 cp --recursive $s3_public_path/ $s3_private_path/ --exclude \"*\" --include \"salaries.csv\"\n",
    "!aws s3 cp --recursive $s3_public_path/ $s3_private_path/ --exclude \"*\" --include \"job_skills.csv\""
   ]
  },
  {
   "cell_type": "code",
   "execution_count": null,
   "metadata": {
    "vscode": {
     "languageId": "plaintext"
    }
   },
   "outputs": [],
   "source": [
    "# Check files are copied successfully\n",
    "print(s3_private_path)"
   ]
  },
  {
   "cell_type": "code",
   "execution_count": null,
   "metadata": {
    "vscode": {
     "languageId": "plaintext"
    }
   },
   "outputs": [],
   "source": [
    "!aws s3 ls $s3_private_path/"
   ]
  },
  {
   "cell_type": "markdown",
   "metadata": {},
   "source": [
    "### Create Athena Database "
   ]
  },
  {
   "cell_type": "code",
   "execution_count": null,
   "metadata": {
    "vscode": {
     "languageId": "plaintext"
    }
   },
   "outputs": [],
   "source": [
    "database_name = \"linkedin_data\""
   ]
  },
  {
   "cell_type": "code",
   "execution_count": null,
   "metadata": {
    "vscode": {
     "languageId": "plaintext"
    }
   },
   "outputs": [],
   "source": [
    "# Set S3 staging directory - a temporary directory for Athena queries\n",
    "s3_staging_dir = \"s3://{0}/athena/staging\".format(bucket)"
   ]
  },
  {
   "cell_type": "code",
   "execution_count": null,
   "metadata": {
    "vscode": {
     "languageId": "plaintext"
    }
   },
   "outputs": [],
   "source": [
    "# Connect to staging directory\n",
    "conn = connect(region_name=region, s3_staging_dir=s3_staging_dir)"
   ]
  },
  {
   "cell_type": "code",
   "execution_count": null,
   "metadata": {
    "vscode": {
     "languageId": "plaintext"
    }
   },
   "outputs": [],
   "source": [
    "# Create Database\n",
    "statement = \"CREATE DATABASE IF NOT EXISTS {}\".format(database_name)\n",
    "\n",
    "pd.read_sql(statement, conn)"
   ]
  },
  {
   "cell_type": "markdown",
   "metadata": {},
   "source": [
    "### Verify database has been created"
   ]
  },
  {
   "cell_type": "code",
   "execution_count": null,
   "metadata": {
    "vscode": {
     "languageId": "plaintext"
    }
   },
   "outputs": [],
   "source": [
    "statement = \"SHOW DATABASES\"\n",
    "\n",
    "df_show = pd.read_sql(statement, conn)\n",
    "df_show.head(5)"
   ]
  },
  {
   "cell_type": "markdown",
   "metadata": {},
   "source": [
    "### Create Athena Tables from CSV Files"
   ]
  },
  {
   "cell_type": "code",
   "execution_count": null,
   "metadata": {
    "vscode": {
     "languageId": "plaintext"
    }
   },
   "outputs": [],
   "source": [
    "table_name = \"postings\"\n",
    "\n",
    "# SQL statement to execute the postings table\n",
    "statement = \"\"\"\n",
    "    CREATE EXTERNAL TABLE IF NOT EXISTS {}.{}(\n",
    "        marketplace string,\n",
    "        customer_id string,\n",
    "        review_id string,\n",
    "        product_id string,\n",
    "        product_parent string,\n",
    "        product_title string,\n",
    "        product_category string,\n",
    "        star_rating int,\n",
    "        helpful_votes int,\n",
    "        total_votes int,\n",
    "        vine string,\n",
    "        verified_purchase string,\n",
    "        review_headline string,\n",
    "        review_body string,\n",
    "        review_date string\n",
    "    ) \n",
    "    ROW FORMAT DELIMITED FIELDS TERMINATED BY '\\\\t' \n",
    "    LINES TERMINATED BY '\\\\n' \n",
    "    LOCATION '{}' \n",
    "    TBLPROPERTIES ('compressionType'='gzip', 'skip.header.line.count'='1')\n",
    "    \"\"\".format(database_name, table_name, s3_private_path)\n",
    "\n",
    "# Execute statement\n",
    "pd.read_sql(statement, conn)\n",
    "print(\"Created postings table\")"
   ]
  },
  {
   "cell_type": "code",
   "execution_count": null,
   "metadata": {
    "vscode": {
     "languageId": "plaintext"
    }
   },
   "outputs": [],
   "source": [
    "postings_df = pd.read_sql(statement, conn)"
   ]
  },
  {
   "cell_type": "code",
   "execution_count": null,
   "metadata": {
    "vscode": {
     "languageId": "plaintext"
    }
   },
   "outputs": [],
   "source": [
    "table_name_2 = \"salaries\"\n",
    "\n",
    "# SQL statement to execute the postings table\n",
    "statement = \"\"\"\n",
    "    CREATE EXTERNAL TABLE IF NOT EXISTS {}.{}(\n",
    "        marketplace string,\n",
    "        customer_id string,\n",
    "        review_id string,\n",
    "        product_id string,\n",
    "        product_parent string,\n",
    "        product_title string,\n",
    "        product_category string,\n",
    "        star_rating int,\n",
    "        helpful_votes int,\n",
    "        total_votes int,\n",
    "        vine string,\n",
    "        verified_purchase string,\n",
    "        review_headline string,\n",
    "        review_body string,\n",
    "        review_date string\n",
    "    ) \n",
    "    ROW FORMAT DELIMITED FIELDS TERMINATED BY '\\\\t' \n",
    "    LINES TERMINATED BY '\\\\n' \n",
    "    LOCATION '{}' \n",
    "    TBLPROPERTIES ('compressionType'='gzip', 'skip.header.line.count'='1')\n",
    "    \"\"\".format(database_name, table_name_2, s3_private_path)\n",
    "\n",
    "# Execute statement\n",
    "pd.read_sql(statement, conn)\n",
    "print(\"Created salaries table\")"
   ]
  },
  {
   "cell_type": "code",
   "execution_count": null,
   "metadata": {
    "vscode": {
     "languageId": "plaintext"
    }
   },
   "outputs": [],
   "source": [
    "salaries_df = pd.read_sql(statement, conn)"
   ]
  },
  {
   "cell_type": "code",
   "execution_count": null,
   "metadata": {
    "vscode": {
     "languageId": "plaintext"
    }
   },
   "outputs": [],
   "source": [
    "table_name_3 = \"job_skills\"\n",
    "\n",
    "# SQL statement to execute the postings table\n",
    "statement = \"\"\"\n",
    "    CREATE EXTERNAL TABLE IF NOT EXISTS {}.{}(\n",
    "        marketplace string,\n",
    "        customer_id string,\n",
    "        review_id string,\n",
    "        product_id string,\n",
    "        product_parent string,\n",
    "        product_title string,\n",
    "        product_category string,\n",
    "        star_rating int,\n",
    "        helpful_votes int,\n",
    "        total_votes int,\n",
    "        vine string,\n",
    "        verified_purchase string,\n",
    "        review_headline string,\n",
    "        review_body string,\n",
    "        review_date string\n",
    "    ) \n",
    "    ROW FORMAT DELIMITED FIELDS TERMINATED BY '\\\\t' \n",
    "    LINES TERMINATED BY '\\\\n' \n",
    "    LOCATION '{}' \n",
    "    TBLPROPERTIES ('compressionType'='gzip', 'skip.header.line.count'='1')\n",
    "    \"\"\".format(database_name, table_name_3, s3_private_path)\n",
    "\n",
    "# Execute statement\n",
    "pd.read_sql(statement, conn)\n",
    "print(\"Created job_skills table\")"
   ]
  },
  {
   "cell_type": "code",
   "execution_count": null,
   "metadata": {
    "vscode": {
     "languageId": "plaintext"
    }
   },
   "outputs": [],
   "source": [
    "job_skills_df = pd.read_sql(statement, conn)"
   ]
  },
  {
   "cell_type": "markdown",
   "metadata": {},
   "source": [
    "### Verify tables have been created successfully"
   ]
  },
  {
   "cell_type": "code",
   "execution_count": null,
   "metadata": {
    "vscode": {
     "languageId": "plaintext"
    }
   },
   "outputs": [],
   "source": [
    "statement = \"SHOW TABLES in {}\".format(database_name)\n",
    "\n",
    "df_show = pd.read_sql(statement, conn)\n",
    "df_show.head(5)"
   ]
  },
  {
   "cell_type": "code",
   "execution_count": null,
   "metadata": {
    "vscode": {
     "languageId": "plaintext"
    }
   },
   "outputs": [],
   "source": [
    "# View table to check the data looks correct\n",
    "statement = \"\"\"\n",
    "    SELECT * \n",
    "    FROM {}.{}\n",
    "    LIMIT 3\n",
    "    \"\"\".format(database_name, table_name)\n",
    "\n",
    "pd.read_sql(statement, conn)"
   ]
  },
  {
   "cell_type": "code",
   "execution_count": null,
   "metadata": {
    "vscode": {
     "languageId": "plaintext"
    }
   },
   "outputs": [],
   "source": [
    "statement = \"\"\"\n",
    "    SELECT * \n",
    "    FROM {}.{}\n",
    "    LIMIT 3\n",
    "    \"\"\".format(database_name, table_name_2)\n",
    "\n",
    "pd.read_sql(statement, conn)"
   ]
  },
  {
   "cell_type": "code",
   "execution_count": null,
   "metadata": {
    "vscode": {
     "languageId": "plaintext"
    }
   },
   "outputs": [],
   "source": [
    "statement = \"\"\"\n",
    "    SELECT * \n",
    "    FROM {}.{}\n",
    "    LIMIT 3\n",
    "    \"\"\".format(database_name, table_name_3)\n",
    "\n",
    "pd.read_sql(statement, conn)"
   ]
  },
  {
   "cell_type": "markdown",
   "metadata": {},
   "source": [
    "## Data Exploration"
   ]
  },
  {
   "cell_type": "markdown",
   "metadata": {},
   "source": []
  }
 ],
 "metadata": {
  "language_info": {
   "name": "python"
  }
 },
 "nbformat": 4,
 "nbformat_minor": 2
}
