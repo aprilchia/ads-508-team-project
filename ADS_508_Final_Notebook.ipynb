{
 "cells": [
  {
   "cell_type": "markdown",
   "metadata": {},
   "source": [
    "# LinkedIn Job Postings"
   ]
  },
  {
   "cell_type": "markdown",
   "metadata": {},
   "source": [
    "## ADS 508 Impacting the Business with a Distributed Data Science Pipeline"
   ]
  },
  {
   "cell_type": "code",
   "execution_count": 1,
   "metadata": {
    "vscode": {
     "languageId": "plaintext"
    }
   },
   "outputs": [],
   "source": [
    "# Import packages\n",
    "import numpy as np\n",
    "import pandas as pd\n",
    "import matplotlib.pyplot as plt\n",
    "import seaborn as sns\n",
    "import boto3\n",
    "import sagemaker\n",
    "from pyathena import connect\n",
    "import awswrangler as wr\n",
    "from collections import Counter\n",
    "from wordcloud import WordCloud\n",
    "\n",
    "import warnings\n",
    "warnings.filterwarnings('ignore')"
   ]
  },
  {
   "cell_type": "markdown",
   "metadata": {},
   "source": [
    "## Data Ingestion"
   ]
  },
  {
   "cell_type": "markdown",
   "metadata": {},
   "source": [
    "### CSV to S3"
   ]
  },
  {
   "cell_type": "code",
   "execution_count": 2,
   "metadata": {
    "vscode": {
     "languageId": "plaintext"
    }
   },
   "outputs": [],
   "source": [
    "# Setup boto3 session parameters\n",
    "session = sagemaker.Session()\n",
    "bucket = session.default_bucket()\n",
    "role = sagemaker.get_execution_role()\n",
    "region = boto3.Session().region_name\n",
    "account_id = boto3.client(\"sts\").get_caller_identity().get(\"Account\")\n",
    "\n",
    "# Establish connection\n",
    "sm = boto3.Session().client(service_name=\"sagemaker\", region_name=region)"
   ]
  },
  {
   "cell_type": "code",
   "execution_count": 3,
   "metadata": {
    "vscode": {
     "languageId": "plaintext"
    }
   },
   "outputs": [],
   "source": [
    "# Set S3 Source Location (Public bucket)\n",
    "s3_public_path = \"s3://linkedin-postings\""
   ]
  },
  {
   "cell_type": "code",
   "execution_count": 4,
   "metadata": {},
   "outputs": [
    {
     "name": "stdout",
     "output_type": "stream",
     "text": [
      "Stored 's3_public_path' (str)\n"
     ]
    }
   ],
   "source": [
    "%store s3_public_path"
   ]
  },
  {
   "cell_type": "code",
   "execution_count": 5,
   "metadata": {
    "vscode": {
     "languageId": "plaintext"
    }
   },
   "outputs": [
    {
     "name": "stdout",
     "output_type": "stream",
     "text": [
      "s3://sagemaker-us-east-1-937572952481/linkedin_data\n"
     ]
    }
   ],
   "source": [
    "# Set S3 Destination Location (Private bucket)\n",
    "s3_private_path = \"s3://{}/linkedin_data\".format(bucket)\n",
    "print(s3_private_path)"
   ]
  },
  {
   "cell_type": "code",
   "execution_count": 6,
   "metadata": {},
   "outputs": [
    {
     "name": "stdout",
     "output_type": "stream",
     "text": [
      "Stored 's3_private_path' (str)\n"
     ]
    }
   ],
   "source": [
    "%store s3_private_path"
   ]
  },
  {
   "cell_type": "code",
   "execution_count": 7,
   "metadata": {
    "vscode": {
     "languageId": "plaintext"
    }
   },
   "outputs": [
    {
     "name": "stdout",
     "output_type": "stream",
     "text": [
      "copy: s3://linkedin-postings/postings/postings.csv to s3://sagemaker-us-east-1-937572952481/linkedin_data/postings/postings.csv\n",
      "copy: s3://linkedin-postings/salaries/salaries.csv to s3://sagemaker-us-east-1-937572952481/linkedin_data/salaries/salaries.csv\n",
      "copy: s3://linkedin-postings/job_skills/job_skills.csv to s3://sagemaker-us-east-1-937572952481/linkedin_data/job_skills/job_skills.csv\n"
     ]
    }
   ],
   "source": [
    "# Copy data from Public S3 bucket to Private S3 bucket\n",
    "!aws s3 cp --recursive $s3_public_path/ $s3_private_path/ --exclude \"*\" --include \"postings/postings.csv\"\n",
    "!aws s3 cp --recursive $s3_public_path/ $s3_private_path/ --exclude \"*\" --include \"salaries/salaries.csv\"\n",
    "!aws s3 cp --recursive $s3_public_path/ $s3_private_path/ --exclude \"*\" --include \"job_skills/job_skills.csv\""
   ]
  },
  {
   "cell_type": "code",
   "execution_count": 8,
   "metadata": {
    "vscode": {
     "languageId": "plaintext"
    }
   },
   "outputs": [
    {
     "name": "stdout",
     "output_type": "stream",
     "text": [
      "                           PRE job_skills/\n",
      "                           PRE postings/\n",
      "                           PRE salaries/\n"
     ]
    }
   ],
   "source": [
    "# Check files are copied successfully to private bucket\n",
    "!aws s3 ls $s3_private_path/"
   ]
  },
  {
   "cell_type": "markdown",
   "metadata": {},
   "source": [
    "### Create Athena Database "
   ]
  },
  {
   "cell_type": "code",
   "execution_count": 9,
   "metadata": {},
   "outputs": [],
   "source": [
    "ingest_create_athena_db_passed = False"
   ]
  },
  {
   "cell_type": "code",
   "execution_count": 10,
   "metadata": {},
   "outputs": [],
   "source": [
    "ingest_create_athena_table_passed = False"
   ]
  },
  {
   "cell_type": "code",
   "execution_count": 11,
   "metadata": {
    "vscode": {
     "languageId": "plaintext"
    }
   },
   "outputs": [],
   "source": [
    "database_name = \"linkedin_data\""
   ]
  },
  {
   "cell_type": "code",
   "execution_count": 12,
   "metadata": {
    "vscode": {
     "languageId": "plaintext"
    }
   },
   "outputs": [],
   "source": [
    "# Set S3 staging directory - a temporary directory for Athena queries\n",
    "s3_staging_dir = \"s3://{}/athena/staging\".format(bucket)"
   ]
  },
  {
   "cell_type": "code",
   "execution_count": 13,
   "metadata": {
    "vscode": {
     "languageId": "plaintext"
    }
   },
   "outputs": [],
   "source": [
    "# Connect to staging directory\n",
    "conn = connect(region_name=region, s3_staging_dir=s3_staging_dir)"
   ]
  },
  {
   "cell_type": "code",
   "execution_count": 14,
   "metadata": {
    "vscode": {
     "languageId": "plaintext"
    }
   },
   "outputs": [
    {
     "data": {
      "text/html": [
       "<div>\n",
       "<style scoped>\n",
       "    .dataframe tbody tr th:only-of-type {\n",
       "        vertical-align: middle;\n",
       "    }\n",
       "\n",
       "    .dataframe tbody tr th {\n",
       "        vertical-align: top;\n",
       "    }\n",
       "\n",
       "    .dataframe thead th {\n",
       "        text-align: right;\n",
       "    }\n",
       "</style>\n",
       "<table border=\"1\" class=\"dataframe\">\n",
       "  <thead>\n",
       "    <tr style=\"text-align: right;\">\n",
       "      <th></th>\n",
       "    </tr>\n",
       "  </thead>\n",
       "  <tbody>\n",
       "  </tbody>\n",
       "</table>\n",
       "</div>"
      ],
      "text/plain": [
       "Empty DataFrame\n",
       "Columns: []\n",
       "Index: []"
      ]
     },
     "execution_count": 14,
     "metadata": {},
     "output_type": "execute_result"
    }
   ],
   "source": [
    "# Create Database\n",
    "statement = \"CREATE DATABASE IF NOT EXISTS {}\".format(database_name)\n",
    "\n",
    "pd.read_sql(statement, conn)"
   ]
  },
  {
   "cell_type": "markdown",
   "metadata": {},
   "source": [
    "### Verify database has been created"
   ]
  },
  {
   "cell_type": "code",
   "execution_count": 15,
   "metadata": {
    "vscode": {
     "languageId": "plaintext"
    }
   },
   "outputs": [
    {
     "data": {
      "text/html": [
       "<div>\n",
       "<style scoped>\n",
       "    .dataframe tbody tr th:only-of-type {\n",
       "        vertical-align: middle;\n",
       "    }\n",
       "\n",
       "    .dataframe tbody tr th {\n",
       "        vertical-align: top;\n",
       "    }\n",
       "\n",
       "    .dataframe thead th {\n",
       "        text-align: right;\n",
       "    }\n",
       "</style>\n",
       "<table border=\"1\" class=\"dataframe\">\n",
       "  <thead>\n",
       "    <tr style=\"text-align: right;\">\n",
       "      <th></th>\n",
       "      <th>database_name</th>\n",
       "    </tr>\n",
       "  </thead>\n",
       "  <tbody>\n",
       "    <tr>\n",
       "      <th>0</th>\n",
       "      <td>default</td>\n",
       "    </tr>\n",
       "    <tr>\n",
       "      <th>1</th>\n",
       "      <td>dsoaws</td>\n",
       "    </tr>\n",
       "    <tr>\n",
       "      <th>2</th>\n",
       "      <td>linkedin_data</td>\n",
       "    </tr>\n",
       "  </tbody>\n",
       "</table>\n",
       "</div>"
      ],
      "text/plain": [
       "   database_name\n",
       "0        default\n",
       "1         dsoaws\n",
       "2  linkedin_data"
      ]
     },
     "execution_count": 15,
     "metadata": {},
     "output_type": "execute_result"
    }
   ],
   "source": [
    "statement = \"SHOW DATABASES\"\n",
    "\n",
    "df_show = pd.read_sql(statement, conn)\n",
    "df_show.head(5)"
   ]
  },
  {
   "cell_type": "code",
   "execution_count": 16,
   "metadata": {},
   "outputs": [],
   "source": [
    "if database_name in df_show.values:\n",
    "    ingest_create_athena_db_passed = True"
   ]
  },
  {
   "cell_type": "markdown",
   "metadata": {},
   "source": [
    "### Create Athena Tables from CSV Files"
   ]
  },
  {
   "cell_type": "code",
   "execution_count": 17,
   "metadata": {},
   "outputs": [
    {
     "name": "stdout",
     "output_type": "stream",
     "text": [
      "DROP TABLE IF EXISTS linkedin_data.postings;\n",
      "Attempted to Drop postings table\n"
     ]
    }
   ],
   "source": [
    "table_name = 'postings'\n",
    "postings_path = \"s3://{}/linkedin_data/postings/\".format(bucket)\n",
    "\n",
    "drop_statement = \"\"\"DROP TABLE IF EXISTS {}.{};\"\"\".format(database_name, table_name)\n",
    "\n",
    "print(drop_statement)\n",
    "pd.read_sql(drop_statement, conn)\n",
    "print(\"Attempted to Drop {} table\".format(table_name))"
   ]
  },
  {
   "cell_type": "code",
   "execution_count": 18,
   "metadata": {
    "vscode": {
     "languageId": "plaintext"
    }
   },
   "outputs": [
    {
     "name": "stdout",
     "output_type": "stream",
     "text": [
      "Created postings table\n"
     ]
    }
   ],
   "source": [
    "# SQL statement to execute the postings table\n",
    "statement = \"\"\"\n",
    "    CREATE EXTERNAL TABLE IF NOT EXISTS {}.{}(\n",
    "        job_id string,\n",
    "        company_name string,\n",
    "        title string,\n",
    "        description string,\n",
    "        max_salary float,\n",
    "        pay_period string,\n",
    "        location string,\n",
    "        company_id float,\n",
    "        views float,\n",
    "        med_salary float,\n",
    "        min_salary float,\n",
    "        formatted_work_type string,\n",
    "        applies float,\n",
    "        original_listed_time float,\n",
    "        remote_allowed float,\n",
    "        job_posting_url string,\n",
    "        application_url string,\n",
    "        application_type string,\n",
    "        expiry float,\n",
    "        closed_time float,\n",
    "        formatted_experience_level string,\n",
    "        skills_desc string,\n",
    "        listed_time string,\n",
    "        posting_domain string,\n",
    "        sponsored int,\n",
    "        work_type string,\n",
    "        currency string,\n",
    "        compensation_type string,\n",
    "        normalized_salary float,\n",
    "        zip_code int,\n",
    "        fips int\n",
    "    ) \n",
    "    ROW FORMAT DELIMITED FIELDS TERMINATED BY ','\n",
    "    LOCATION '{}' \n",
    "    TBLPROPERTIES ('skip.header.line.count'='1')\n",
    "    \"\"\".format(database_name, table_name, postings_path)\n",
    "\n",
    "# Execute statement\n",
    "pd.read_sql(statement, conn)\n",
    "print(\"Created postings table\")"
   ]
  },
  {
   "cell_type": "code",
   "execution_count": 19,
   "metadata": {},
   "outputs": [
    {
     "name": "stdout",
     "output_type": "stream",
     "text": [
      "DROP TABLE IF EXISTS linkedin_data.salaries;\n",
      "Attempted to Drop salaries table\n"
     ]
    }
   ],
   "source": [
    "table_name_2 = \"salaries\"\n",
    "salaries_path = \"s3://{}/linkedin_data/salaries/\".format(bucket)\n",
    "\n",
    "drop_statement2 = \"\"\"DROP TABLE IF EXISTS {}.{};\"\"\".format(database_name, table_name_2)\n",
    "\n",
    "print(drop_statement2)\n",
    "pd.read_sql(drop_statement2, conn)\n",
    "print(\"Attempted to Drop {} table\".format(table_name_2))"
   ]
  },
  {
   "cell_type": "code",
   "execution_count": 20,
   "metadata": {
    "vscode": {
     "languageId": "plaintext"
    }
   },
   "outputs": [
    {
     "name": "stdout",
     "output_type": "stream",
     "text": [
      "Created salaries table\n"
     ]
    }
   ],
   "source": [
    "# SQL statement to execute the postings table\n",
    "statement = \"\"\"\n",
    "    CREATE EXTERNAL TABLE IF NOT EXISTS {}.{}(\n",
    "        salary_id int,\n",
    "        job_id string,\n",
    "        max_salary float,\n",
    "        med_salary float,\n",
    "        min_salary float,\n",
    "        pay_period string,\n",
    "        currency string,\n",
    "        compensation_type string\n",
    "    ) \n",
    "    ROW FORMAT DELIMITED FIELDS TERMINATED BY ','\n",
    "    LOCATION '{}' \n",
    "    TBLPROPERTIES ('skip.header.line.count'='1')\n",
    "    \"\"\".format(database_name, table_name_2, salaries_path)\n",
    "\n",
    "# Execute statement\n",
    "pd.read_sql(statement, conn)\n",
    "print(\"Created salaries table\")"
   ]
  },
  {
   "cell_type": "code",
   "execution_count": 21,
   "metadata": {},
   "outputs": [
    {
     "name": "stdout",
     "output_type": "stream",
     "text": [
      "DROP TABLE IF EXISTS linkedin_data.job_skills;\n",
      "Attempted to Drop job_skills table\n"
     ]
    }
   ],
   "source": [
    "table_name_3 = \"job_skills\"\n",
    "job_skills_path = \"s3://{}/linkedin_data/job_skills/\".format(bucket)\n",
    "\n",
    "drop_statement3 = \"\"\"DROP TABLE IF EXISTS {}.{};\"\"\".format(database_name, table_name_3)\n",
    "\n",
    "print(drop_statement3)\n",
    "pd.read_sql(drop_statement3, conn)\n",
    "print(\"Attempted to Drop {} table\".format(table_name_3))"
   ]
  },
  {
   "cell_type": "code",
   "execution_count": 22,
   "metadata": {
    "vscode": {
     "languageId": "plaintext"
    }
   },
   "outputs": [
    {
     "name": "stdout",
     "output_type": "stream",
     "text": [
      "Created job_skills table\n"
     ]
    }
   ],
   "source": [
    "# SQL statement to execute the postings table\n",
    "statement = \"\"\"\n",
    "    CREATE EXTERNAL TABLE IF NOT EXISTS {}.{}(\n",
    "        job_id string,\n",
    "        skill_abr string\n",
    "    ) \n",
    "    ROW FORMAT DELIMITED FIELDS TERMINATED BY ','\n",
    "    LOCATION '{}' \n",
    "    TBLPROPERTIES ('skip.header.line.count'='1')\n",
    "    \"\"\".format(database_name, table_name_3, job_skills_path)\n",
    "\n",
    "# Execute statement\n",
    "pd.read_sql(statement, conn)\n",
    "print(\"Created job_skills table\")"
   ]
  },
  {
   "cell_type": "markdown",
   "metadata": {},
   "source": [
    "### Verify tables have been created successfully"
   ]
  },
  {
   "cell_type": "code",
   "execution_count": 23,
   "metadata": {
    "vscode": {
     "languageId": "plaintext"
    }
   },
   "outputs": [
    {
     "data": {
      "text/html": [
       "<div>\n",
       "<style scoped>\n",
       "    .dataframe tbody tr th:only-of-type {\n",
       "        vertical-align: middle;\n",
       "    }\n",
       "\n",
       "    .dataframe tbody tr th {\n",
       "        vertical-align: top;\n",
       "    }\n",
       "\n",
       "    .dataframe thead th {\n",
       "        text-align: right;\n",
       "    }\n",
       "</style>\n",
       "<table border=\"1\" class=\"dataframe\">\n",
       "  <thead>\n",
       "    <tr style=\"text-align: right;\">\n",
       "      <th></th>\n",
       "      <th>tab_name</th>\n",
       "    </tr>\n",
       "  </thead>\n",
       "  <tbody>\n",
       "    <tr>\n",
       "      <th>0</th>\n",
       "      <td>job_skills</td>\n",
       "    </tr>\n",
       "    <tr>\n",
       "      <th>1</th>\n",
       "      <td>postings</td>\n",
       "    </tr>\n",
       "    <tr>\n",
       "      <th>2</th>\n",
       "      <td>salaries</td>\n",
       "    </tr>\n",
       "  </tbody>\n",
       "</table>\n",
       "</div>"
      ],
      "text/plain": [
       "     tab_name\n",
       "0  job_skills\n",
       "1    postings\n",
       "2    salaries"
      ]
     },
     "execution_count": 23,
     "metadata": {},
     "output_type": "execute_result"
    }
   ],
   "source": [
    "statement = \"SHOW TABLES in {}\".format(database_name)\n",
    "\n",
    "df_show = pd.read_sql(statement, conn)\n",
    "df_show.head(5)"
   ]
  },
  {
   "cell_type": "code",
   "execution_count": 24,
   "metadata": {},
   "outputs": [],
   "source": [
    "if table_name in df_show.values:\n",
    "    ingest_create_athena_table_passed = True"
   ]
  },
  {
   "cell_type": "code",
   "execution_count": 35,
   "metadata": {},
   "outputs": [
    {
     "data": {
      "text/html": [
       "<div>\n",
       "<style scoped>\n",
       "    .dataframe tbody tr th:only-of-type {\n",
       "        vertical-align: middle;\n",
       "    }\n",
       "\n",
       "    .dataframe tbody tr th {\n",
       "        vertical-align: top;\n",
       "    }\n",
       "\n",
       "    .dataframe thead th {\n",
       "        text-align: right;\n",
       "    }\n",
       "</style>\n",
       "<table border=\"1\" class=\"dataframe\">\n",
       "  <thead>\n",
       "    <tr style=\"text-align: right;\">\n",
       "      <th></th>\n",
       "      <th>job_id</th>\n",
       "      <th>company_name</th>\n",
       "      <th>title</th>\n",
       "      <th>description</th>\n",
       "      <th>max_salary</th>\n",
       "      <th>pay_period</th>\n",
       "      <th>location</th>\n",
       "      <th>company_id</th>\n",
       "      <th>views</th>\n",
       "      <th>med_salary</th>\n",
       "      <th>...</th>\n",
       "      <th>skills_desc</th>\n",
       "      <th>listed_time</th>\n",
       "      <th>posting_domain</th>\n",
       "      <th>sponsored</th>\n",
       "      <th>work_type</th>\n",
       "      <th>currency</th>\n",
       "      <th>compensation_type</th>\n",
       "      <th>normalized_salary</th>\n",
       "      <th>zip_code</th>\n",
       "      <th>fips</th>\n",
       "    </tr>\n",
       "  </thead>\n",
       "  <tbody>\n",
       "    <tr>\n",
       "      <th>0</th>\n",
       "      <td>REQUIREMENTS2+ years sales experienceCustomer ...</td>\n",
       "      <td>detail-oriented</td>\n",
       "      <td>personable</td>\n",
       "      <td>reliable</td>\n",
       "      <td>None</td>\n",
       "      <td>70000.0</td>\n",
       "      <td>YEARLY</td>\n",
       "      <td>None</td>\n",
       "      <td>None</td>\n",
       "      <td>74447920.0</td>\n",
       "      <td>...</td>\n",
       "      <td></td>\n",
       "      <td>Associate</td>\n",
       "      <td></td>\n",
       "      <td>None</td>\n",
       "      <td></td>\n",
       "      <td>0</td>\n",
       "      <td>FULL_TIME</td>\n",
       "      <td>None</td>\n",
       "      <td>None</td>\n",
       "      <td>65000.0</td>\n",
       "    </tr>\n",
       "    <tr>\n",
       "      <th>1</th>\n",
       "      <td>3901356487</td>\n",
       "      <td>Diversatek Healthcare</td>\n",
       "      <td>Medical Device Sales Representative</td>\n",
       "      <td>\"As a Territory Manager</td>\n",
       "      <td>None</td>\n",
       "      <td>endoscopy centers</td>\n",
       "      <td>and ambulatory surgery centers. Territory Man...</td>\n",
       "      <td>None</td>\n",
       "      <td>None</td>\n",
       "      <td>NaN</td>\n",
       "      <td>...</td>\n",
       "      <td>with frequent travel outside the local area a...</td>\n",
       "      <td>and stoop</td>\n",
       "      <td>kneel</td>\n",
       "      <td>None</td>\n",
       "      <td>distance vision</td>\n",
       "      <td>color vision</td>\n",
       "      <td>peripheral vision</td>\n",
       "      <td>None</td>\n",
       "      <td>None</td>\n",
       "      <td>NaN</td>\n",
       "    </tr>\n",
       "    <tr>\n",
       "      <th>2</th>\n",
       "      <td>3901356495</td>\n",
       "      <td>Quantum Research International</td>\n",
       "      <td>LINUX SYSTEM ADMINISTRATOR (CAOC)</td>\n",
       "      <td>\"Mission:In support of the Compute Architectur...</td>\n",
       "      <td>None</td>\n",
       "      <td>Network Operation</td>\n",
       "      <td>Security Operation</td>\n",
       "      <td>None</td>\n",
       "      <td>None</td>\n",
       "      <td>NaN</td>\n",
       "      <td>...</td>\n",
       "      <td>standard maintenance/patching</td>\n",
       "      <td>and user/account administration using Ansible...</td>\n",
       "      <td>Linux+</td>\n",
       "      <td>None</td>\n",
       "      <td>etc. (90 day waiver may be provided to obtain...</td>\n",
       "      <td>Experience</td>\n",
       "      <td>&amp; Skills :Experience with compiling</td>\n",
       "      <td>None</td>\n",
       "      <td>None</td>\n",
       "      <td>NaN</td>\n",
       "    </tr>\n",
       "    <tr>\n",
       "      <th>3</th>\n",
       "      <td>3901356508</td>\n",
       "      <td>Compri Consulting</td>\n",
       "      <td>Project Manager - Healthcare</td>\n",
       "      <td>\"Demonstrated experience integrating into an e...</td>\n",
       "      <td>None</td>\n",
       "      <td>70.0</td>\n",
       "      <td>HOURLY</td>\n",
       "      <td>None</td>\n",
       "      <td>None</td>\n",
       "      <td>46305.0</td>\n",
       "      <td>...</td>\n",
       "      <td></td>\n",
       "      <td>Mid-Senior level</td>\n",
       "      <td></td>\n",
       "      <td>None</td>\n",
       "      <td></td>\n",
       "      <td>0</td>\n",
       "      <td>CONTRACT</td>\n",
       "      <td>None</td>\n",
       "      <td>None</td>\n",
       "      <td>140400.0</td>\n",
       "    </tr>\n",
       "    <tr>\n",
       "      <th>4</th>\n",
       "      <td>3901356509</td>\n",
       "      <td>Planet Pharma</td>\n",
       "      <td>Administrative Assistant I</td>\n",
       "      <td>\"3-month initial contract (possibility of exte...</td>\n",
       "      <td>None</td>\n",
       "      <td>W</td>\n",
       "      <td>Th)Pay Rate: $21.62</td>\n",
       "      <td>None</td>\n",
       "      <td>None</td>\n",
       "      <td>NaN</td>\n",
       "      <td>...</td>\n",
       "      <td>None</td>\n",
       "      <td>None</td>\n",
       "      <td>None</td>\n",
       "      <td>None</td>\n",
       "      <td>None</td>\n",
       "      <td>None</td>\n",
       "      <td>None</td>\n",
       "      <td>None</td>\n",
       "      <td>None</td>\n",
       "      <td>NaN</td>\n",
       "    </tr>\n",
       "  </tbody>\n",
       "</table>\n",
       "<p>5 rows × 31 columns</p>\n",
       "</div>"
      ],
      "text/plain": [
       "                                              job_id  \\\n",
       "0  REQUIREMENTS2+ years sales experienceCustomer ...   \n",
       "1                                         3901356487   \n",
       "2                                         3901356495   \n",
       "3                                         3901356508   \n",
       "4                                         3901356509   \n",
       "\n",
       "                     company_name                                title  \\\n",
       "0                 detail-oriented                           personable   \n",
       "1           Diversatek Healthcare  Medical Device Sales Representative   \n",
       "2  Quantum Research International    LINUX SYSTEM ADMINISTRATOR (CAOC)   \n",
       "3               Compri Consulting         Project Manager - Healthcare   \n",
       "4                   Planet Pharma           Administrative Assistant I   \n",
       "\n",
       "                                         description max_salary  \\\n",
       "0                                           reliable       None   \n",
       "1                            \"As a Territory Manager       None   \n",
       "2  \"Mission:In support of the Compute Architectur...       None   \n",
       "3  \"Demonstrated experience integrating into an e...       None   \n",
       "4  \"3-month initial contract (possibility of exte...       None   \n",
       "\n",
       "           pay_period                                           location  \\\n",
       "0             70000.0                                             YEARLY   \n",
       "1   endoscopy centers   and ambulatory surgery centers. Territory Man...   \n",
       "2   Network Operation                                 Security Operation   \n",
       "3                70.0                                             HOURLY   \n",
       "4                   W                                Th)Pay Rate: $21.62   \n",
       "\n",
       "  company_id views  med_salary  ...  \\\n",
       "0       None  None  74447920.0  ...   \n",
       "1       None  None         NaN  ...   \n",
       "2       None  None         NaN  ...   \n",
       "3       None  None     46305.0  ...   \n",
       "4       None  None         NaN  ...   \n",
       "\n",
       "                                         skills_desc  \\\n",
       "0                                                      \n",
       "1   with frequent travel outside the local area a...   \n",
       "2                      standard maintenance/patching   \n",
       "3                                                      \n",
       "4                                               None   \n",
       "\n",
       "                                         listed_time  posting_domain  \\\n",
       "0                                          Associate                   \n",
       "1                                          and stoop           kneel   \n",
       "2   and user/account administration using Ansible...          Linux+   \n",
       "3                                   Mid-Senior level                   \n",
       "4                                               None            None   \n",
       "\n",
       "  sponsored                                          work_type       currency  \\\n",
       "0      None                                                                 0   \n",
       "1      None                                    distance vision   color vision   \n",
       "2      None   etc. (90 day waiver may be provided to obtain...     Experience   \n",
       "3      None                                                                 0   \n",
       "4      None                                               None           None   \n",
       "\n",
       "                      compensation_type normalized_salary zip_code      fips  \n",
       "0                             FULL_TIME              None     None   65000.0  \n",
       "1                     peripheral vision              None     None       NaN  \n",
       "2   & Skills :Experience with compiling              None     None       NaN  \n",
       "3                              CONTRACT              None     None  140400.0  \n",
       "4                                  None              None     None       NaN  \n",
       "\n",
       "[5 rows x 31 columns]"
      ]
     },
     "execution_count": 35,
     "metadata": {},
     "output_type": "execute_result"
    }
   ],
   "source": [
    "# View postings table to check the data looks correct\n",
    "statement = \"\"\"SELECT * FROM {}.{} LIMIT 5\"\"\".format(database_name, table_name)\n",
    "\n",
    "pd.read_sql(statement, conn)"
   ]
  },
  {
   "cell_type": "code",
   "execution_count": 26,
   "metadata": {
    "vscode": {
     "languageId": "plaintext"
    }
   },
   "outputs": [
    {
     "data": {
      "text/html": [
       "<div>\n",
       "<style scoped>\n",
       "    .dataframe tbody tr th:only-of-type {\n",
       "        vertical-align: middle;\n",
       "    }\n",
       "\n",
       "    .dataframe tbody tr th {\n",
       "        vertical-align: top;\n",
       "    }\n",
       "\n",
       "    .dataframe thead th {\n",
       "        text-align: right;\n",
       "    }\n",
       "</style>\n",
       "<table border=\"1\" class=\"dataframe\">\n",
       "  <thead>\n",
       "    <tr style=\"text-align: right;\">\n",
       "      <th></th>\n",
       "      <th>salary_id</th>\n",
       "      <th>job_id</th>\n",
       "      <th>max_salary</th>\n",
       "      <th>med_salary</th>\n",
       "      <th>min_salary</th>\n",
       "      <th>pay_period</th>\n",
       "      <th>currency</th>\n",
       "      <th>compensation_type</th>\n",
       "    </tr>\n",
       "  </thead>\n",
       "  <tbody>\n",
       "    <tr>\n",
       "      <th>0</th>\n",
       "      <td>1</td>\n",
       "      <td>3884428798</td>\n",
       "      <td>NaN</td>\n",
       "      <td>20.0</td>\n",
       "      <td>NaN</td>\n",
       "      <td>HOURLY</td>\n",
       "      <td>USD</td>\n",
       "      <td>BASE_SALARY</td>\n",
       "    </tr>\n",
       "    <tr>\n",
       "      <th>1</th>\n",
       "      <td>2</td>\n",
       "      <td>3887470552</td>\n",
       "      <td>25.0</td>\n",
       "      <td>NaN</td>\n",
       "      <td>23.0</td>\n",
       "      <td>HOURLY</td>\n",
       "      <td>USD</td>\n",
       "      <td>BASE_SALARY</td>\n",
       "    </tr>\n",
       "    <tr>\n",
       "      <th>2</th>\n",
       "      <td>3</td>\n",
       "      <td>3884431523</td>\n",
       "      <td>120000.0</td>\n",
       "      <td>NaN</td>\n",
       "      <td>100000.0</td>\n",
       "      <td>YEARLY</td>\n",
       "      <td>USD</td>\n",
       "      <td>BASE_SALARY</td>\n",
       "    </tr>\n",
       "    <tr>\n",
       "      <th>3</th>\n",
       "      <td>4</td>\n",
       "      <td>3884911725</td>\n",
       "      <td>200000.0</td>\n",
       "      <td>NaN</td>\n",
       "      <td>10000.0</td>\n",
       "      <td>YEARLY</td>\n",
       "      <td>USD</td>\n",
       "      <td>BASE_SALARY</td>\n",
       "    </tr>\n",
       "    <tr>\n",
       "      <th>4</th>\n",
       "      <td>5</td>\n",
       "      <td>3887473220</td>\n",
       "      <td>35.0</td>\n",
       "      <td>NaN</td>\n",
       "      <td>33.0</td>\n",
       "      <td>HOURLY</td>\n",
       "      <td>USD</td>\n",
       "      <td>BASE_SALARY</td>\n",
       "    </tr>\n",
       "  </tbody>\n",
       "</table>\n",
       "</div>"
      ],
      "text/plain": [
       "   salary_id      job_id  max_salary  med_salary  min_salary pay_period  \\\n",
       "0          1  3884428798         NaN        20.0         NaN     HOURLY   \n",
       "1          2  3887470552        25.0         NaN        23.0     HOURLY   \n",
       "2          3  3884431523    120000.0         NaN    100000.0     YEARLY   \n",
       "3          4  3884911725    200000.0         NaN     10000.0     YEARLY   \n",
       "4          5  3887473220        35.0         NaN        33.0     HOURLY   \n",
       "\n",
       "  currency compensation_type  \n",
       "0      USD       BASE_SALARY  \n",
       "1      USD       BASE_SALARY  \n",
       "2      USD       BASE_SALARY  \n",
       "3      USD       BASE_SALARY  \n",
       "4      USD       BASE_SALARY  "
      ]
     },
     "execution_count": 26,
     "metadata": {},
     "output_type": "execute_result"
    }
   ],
   "source": [
    "# View salaries table to check the data looks correct\n",
    "statement = \"\"\"SELECT * FROM {}.{} LIMIT 5\"\"\".format(database_name, table_name_2)\n",
    "\n",
    "pd.read_sql(statement, conn)"
   ]
  },
  {
   "cell_type": "code",
   "execution_count": 27,
   "metadata": {
    "vscode": {
     "languageId": "plaintext"
    }
   },
   "outputs": [
    {
     "data": {
      "text/html": [
       "<div>\n",
       "<style scoped>\n",
       "    .dataframe tbody tr th:only-of-type {\n",
       "        vertical-align: middle;\n",
       "    }\n",
       "\n",
       "    .dataframe tbody tr th {\n",
       "        vertical-align: top;\n",
       "    }\n",
       "\n",
       "    .dataframe thead th {\n",
       "        text-align: right;\n",
       "    }\n",
       "</style>\n",
       "<table border=\"1\" class=\"dataframe\">\n",
       "  <thead>\n",
       "    <tr style=\"text-align: right;\">\n",
       "      <th></th>\n",
       "      <th>job_id</th>\n",
       "      <th>skill_abr</th>\n",
       "    </tr>\n",
       "  </thead>\n",
       "  <tbody>\n",
       "    <tr>\n",
       "      <th>0</th>\n",
       "      <td>3884428798</td>\n",
       "      <td>MRKT</td>\n",
       "    </tr>\n",
       "    <tr>\n",
       "      <th>1</th>\n",
       "      <td>3884428798</td>\n",
       "      <td>PR</td>\n",
       "    </tr>\n",
       "    <tr>\n",
       "      <th>2</th>\n",
       "      <td>3884428798</td>\n",
       "      <td>WRT</td>\n",
       "    </tr>\n",
       "    <tr>\n",
       "      <th>3</th>\n",
       "      <td>3887473071</td>\n",
       "      <td>SALE</td>\n",
       "    </tr>\n",
       "    <tr>\n",
       "      <th>4</th>\n",
       "      <td>3887465684</td>\n",
       "      <td>FIN</td>\n",
       "    </tr>\n",
       "  </tbody>\n",
       "</table>\n",
       "</div>"
      ],
      "text/plain": [
       "       job_id skill_abr\n",
       "0  3884428798      MRKT\n",
       "1  3884428798        PR\n",
       "2  3884428798       WRT\n",
       "3  3887473071      SALE\n",
       "4  3887465684       FIN"
      ]
     },
     "execution_count": 27,
     "metadata": {},
     "output_type": "execute_result"
    }
   ],
   "source": [
    "# View job skills table to check the data looks correct\n",
    "statement = \"\"\"SELECT * FROM {}.{} LIMIT 5\"\"\".format(database_name, table_name_3)\n",
    "\n",
    "pd.read_sql(statement, conn)"
   ]
  },
  {
   "cell_type": "markdown",
   "metadata": {},
   "source": [
    "## Data Exploration"
   ]
  },
  {
   "cell_type": "code",
   "execution_count": 45,
   "metadata": {},
   "outputs": [],
   "source": [
    "statement = \"\"\"\n",
    "    SELECT \n",
    "        job_id, company_name, title, max_salary, location,\n",
    "        company_id, views, med_salary, min_salary, formatted_work_type, applies,\n",
    "        formatted_experience_level, skills_desc, work_type,\n",
    "        normalized_salary, zip_code\n",
    "    FROM {}.{}\n",
    "    LIMIT 10000;\n",
    "    \"\"\".format(database_name, table_name)\n",
    "\n",
    "# Execute query and load results into a Pandas DataFrame\n",
    "postings_df = pd.read_sql(statement, conn)"
   ]
  },
  {
   "cell_type": "code",
   "execution_count": 58,
   "metadata": {},
   "outputs": [],
   "source": [
    "statement = \"\"\"SELECT * FROM {}.{}\"\"\".format(database_name, table_name_2)\n",
    "salaries_df = pd.read_sql(statement, conn)"
   ]
  },
  {
   "cell_type": "code",
   "execution_count": 59,
   "metadata": {},
   "outputs": [],
   "source": [
    "statement = \"\"\"SELECT * FROM {}.{}\"\"\".format(database_name, table_name_3)\n",
    "job_skills_df = pd.read_sql(statement, conn)"
   ]
  },
  {
   "cell_type": "markdown",
   "metadata": {},
   "source": [
    "### postings EDA"
   ]
  },
  {
   "cell_type": "code",
   "execution_count": 46,
   "metadata": {
    "vscode": {
     "languageId": "plaintext"
    }
   },
   "outputs": [
    {
     "name": "stdout",
     "output_type": "stream",
     "text": [
      "<class 'pandas.core.frame.DataFrame'>\n",
      "RangeIndex: 10000 entries, 0 to 9999\n",
      "Data columns (total 16 columns):\n",
      " #   Column                      Non-Null Count  Dtype  \n",
      "---  ------                      --------------  -----  \n",
      " 0   job_id                      10000 non-null  object \n",
      " 1   company_name                3037 non-null   object \n",
      " 2   title                       2606 non-null   object \n",
      " 3   max_salary                  24 non-null     float64\n",
      " 4   location                    1314 non-null   object \n",
      " 5   company_id                  94 non-null     float64\n",
      " 6   views                       100 non-null    float64\n",
      " 7   med_salary                  65 non-null     float64\n",
      " 8   min_salary                  81 non-null     float64\n",
      " 9   formatted_work_type         761 non-null    object \n",
      " 10  applies                     97 non-null     float64\n",
      " 11  formatted_experience_level  512 non-null    object \n",
      " 12  skills_desc                 502 non-null    object \n",
      " 13  work_type                   476 non-null    object \n",
      " 14  normalized_salary           228 non-null    float64\n",
      " 15  zip_code                    81 non-null     float64\n",
      "dtypes: float64(8), object(8)\n",
      "memory usage: 1.2+ MB\n",
      "None\n"
     ]
    }
   ],
   "source": [
    "# Basic stats\n",
    "print(postings_df.info())"
   ]
  },
  {
   "cell_type": "code",
   "execution_count": 47,
   "metadata": {
    "vscode": {
     "languageId": "plaintext"
    }
   },
   "outputs": [
    {
     "name": "stdout",
     "output_type": "stream",
     "text": [
      "job_id                         object\n",
      "company_name                   object\n",
      "title                          object\n",
      "max_salary                    float64\n",
      "location                       object\n",
      "company_id                    float64\n",
      "views                         float64\n",
      "med_salary                    float64\n",
      "min_salary                    float64\n",
      "formatted_work_type            object\n",
      "applies                       float64\n",
      "formatted_experience_level     object\n",
      "skills_desc                    object\n",
      "work_type                      object\n",
      "normalized_salary             float64\n",
      "zip_code                      float64\n",
      "dtype: object\n"
     ]
    }
   ],
   "source": [
    "# Data types\n",
    "postings_data_types = postings_df.dtypes\n",
    "print(postings_data_types)"
   ]
  },
  {
   "cell_type": "code",
   "execution_count": 48,
   "metadata": {
    "vscode": {
     "languageId": "plaintext"
    }
   },
   "outputs": [
    {
     "name": "stdout",
     "output_type": "stream",
     "text": [
      "company_name                  6963\n",
      "title                         7394\n",
      "max_salary                    9976\n",
      "location                      8686\n",
      "company_id                    9906\n",
      "views                         9900\n",
      "med_salary                    9935\n",
      "min_salary                    9919\n",
      "formatted_work_type           9239\n",
      "applies                       9903\n",
      "formatted_experience_level    9488\n",
      "skills_desc                   9498\n",
      "work_type                     9524\n",
      "normalized_salary             9772\n",
      "zip_code                      9919\n",
      "dtype: int64\n"
     ]
    }
   ],
   "source": [
    "# Missing values\n",
    "missing_values = postings_df.isnull().sum()\n",
    "print(missing_values[missing_values > 0])"
   ]
  },
  {
   "cell_type": "code",
   "execution_count": 49,
   "metadata": {
    "vscode": {
     "languageId": "plaintext"
    }
   },
   "outputs": [
    {
     "name": "stdout",
     "output_type": "stream",
     "text": [
      "5641\n"
     ]
    }
   ],
   "source": [
    "# Duplicates\n",
    "duplicates = postings_df.duplicated().sum()\n",
    "print(duplicates)"
   ]
  },
  {
   "cell_type": "code",
   "execution_count": 50,
   "metadata": {
    "vscode": {
     "languageId": "plaintext"
    }
   },
   "outputs": [
    {
     "name": "stdout",
     "output_type": "stream",
     "text": [
      "         max_salary    company_id         views    med_salary    min_salary  \\\n",
      "count  2.400000e+01  9.400000e+01  1.000000e+02  6.500000e+01  8.100000e+01   \n",
      "mean   2.043255e+07  2.282581e+06  2.170293e+06  7.449931e+06  3.807553e+11   \n",
      "std    3.347897e+07  1.128424e+07  1.210494e+07  2.350759e+07  7.167597e+11   \n",
      "min    0.000000e+00  1.000000e+00  0.000000e+00  1.000000e+00  1.000000e+00   \n",
      "25%    7.230025e+04  1.525000e+01  1.645000e+01  5.000000e+00  3.000000e+00   \n",
      "50%    2.941220e+06  7.450000e+01  3.801000e+03  2.704900e+04  4.600000e+01   \n",
      "75%    1.873832e+07  8.296700e+04  9.161875e+04  1.085000e+05  1.861042e+07   \n",
      "max    1.028295e+08  7.938354e+07  9.040678e+07  9.742182e+07  1.713475e+12   \n",
      "\n",
      "            applies  normalized_salary      zip_code  \n",
      "count  9.700000e+01       2.280000e+02  8.100000e+01  \n",
      "mean   7.242163e+11       2.330760e+11  1.557320e+06  \n",
      "std    8.507813e+11       5.888496e+11  9.168751e+06  \n",
      "min    1.000000e+00       0.000000e+00  0.000000e+00  \n",
      "25%    7.000000e+00       1.808700e+04  3.000000e+00  \n",
      "50%    1.861042e+07       3.808400e+04  2.916100e+04  \n",
      "75%    1.713398e+12       5.303300e+04  6.485000e+04  \n",
      "max    1.713475e+12       1.721223e+12  6.466522e+07  \n"
     ]
    }
   ],
   "source": [
    "# Summary statistics for numerical columns\n",
    "print(postings_df.describe())"
   ]
  },
  {
   "cell_type": "code",
   "execution_count": 52,
   "metadata": {
    "vscode": {
     "languageId": "plaintext"
    }
   },
   "outputs": [
    {
     "name": "stdout",
     "output_type": "stream",
     "text": [
      "title\n",
      "                                                                                                161\n",
      " religion                                                                                        36\n",
      "HOURLY                                                                                           36\n",
      "YEARLY                                                                                           26\n",
      " color                                                                                           20\n",
      " Inc.\"                                                                                           20\n",
      " Home Improvement                                                                                14\n",
      " Dental                                                                                          14\n",
      " we integrate diversity                                                                          14\n",
      " and may require climbing a ladder to store and retrieve materials or place and remove signs     11\n",
      "Name: count, dtype: int64\n",
      "company_name\n",
      "                                                                                                      163\n",
      " color                                                                                                 55\n",
      "GIG USA                                                                                                16\n",
      " dental                                                                                                15\n",
      "Trinity Health Of New England                                                                          14\n",
      " Catholic healthcare systems in the nation. Built on the foundation of our Mission and Core Values     14\n",
      " Construction                                                                                          14\n",
      " You Will Enjoy                                                                                        11\n",
      " reach and manipulate objects with hands. This handwork requires eye-hand coordination                 11\n",
      " work in a fast-paced                                                                                  11\n",
      "Name: count, dtype: int64\n",
      "location\n",
      "                         40\n",
      "3.0                      39\n",
      "4.0                      34\n",
      "5.0                      33\n",
      " national origin         23\n",
      "2.0                      18\n",
      " Telecom Construction    14\n",
      "6.0                      14\n",
      " abilities               14\n",
      " age                     13\n",
      "Name: count, dtype: int64\n",
      "formatted_work_type\n",
      "                                  74\n",
      " sex                              20\n",
      "1713398400000.0                   20\n",
      "Full-time                         17\n",
      "1.0                               13\n",
      "1713225600000.0                   12\n",
      " age                               7\n",
      "1713473813000.0                    7\n",
      " gender identity or expression     6\n",
      " AZ\"                               6\n",
      "Name: count, dtype: int64\n",
      "formatted_experience_level\n",
      "                      118\n",
      "Mid-Senior level       14\n",
      "1713281308000.0        11\n",
      "1713474551000.0        10\n",
      "Full-time               9\n",
      "ComplexOnsiteApply      8\n",
      "1713449152000.0         7\n",
      "\"Waterbury              6\n",
      "1713474273000.0         5\n",
      "1713449135000.0         5\n",
      "Name: count, dtype: int64\n",
      "skills_desc\n",
      "                                 142\n",
      "0                                 17\n",
      "workwithus.circlek.com            11\n",
      " CT\"                              10\n",
      "groundwarehousejobs.fedex.com     10\n",
      "Entry level                        7\n",
      "careers.akronchildrens.org         7\n",
      "Mid-Senior level                   7\n",
      "Full-time                          6\n",
      "ComplexOnsiteApply                 6\n",
      "Name: count, dtype: int64\n"
     ]
    }
   ],
   "source": [
    "# Top 10 unique values in categorical columns\n",
    "categorical = [\"title\", \"company_name\", \"location\", \"formatted_work_type\", \"formatted_experience_level\", \"skills_desc\"]\n",
    "for col in categorical:\n",
    "    print(postings_df[col].value_counts().head(10))"
   ]
  },
  {
   "cell_type": "code",
   "execution_count": 57,
   "metadata": {
    "vscode": {
     "languageId": "plaintext"
    }
   },
   "outputs": [
    {
     "data": {
      "image/png": "[encoded data removed]",
      "text/plain": [
       "<Figure size 1200x600 with 1 Axes>"
      ]
     },
     "metadata": {},
     "output_type": "display_data"
    }
   ],
   "source": [
    "# Visualize most common job titles\n",
    "top_titles = postings_df[\"formatted_experience_level\"].value_counts().head(10)\n",
    "\n",
    "plt.figure(figsize=(12,6))\n",
    "sns.barplot(y=top_titles.index, x=top_titles.values, palette=\"coolwarm\")\n",
    "plt.xlabel(\"Job Title\")\n",
    "plt.ylabel(\"Number of Postings\")\n",
    "plt.title(\"Most Common Job Titles\")\n",
    "plt.xticks(rotation=45)\n",
    "plt.show()"
   ]
  },
  {
   "cell_type": "markdown",
   "metadata": {
    "vscode": {
     "languageId": "plaintext"
    }
   },
   "source": [
    "### salaries EDA"
   ]
  },
  {
   "cell_type": "code",
   "execution_count": 60,
   "metadata": {
    "vscode": {
     "languageId": "plaintext"
    }
   },
   "outputs": [
    {
     "name": "stdout",
     "output_type": "stream",
     "text": [
      "          salary_id    max_salary     med_salary    min_salary\n",
      "count  40785.000000  3.394700e+04    6838.000000  3.394700e+04\n",
      "mean   20393.000000  9.620987e+04   21370.298198  6.508541e+04\n",
      "std    11773.759701  6.587373e+05   51338.564169  4.650612e+05\n",
      "min        1.000000  1.000000e+00       0.000000  1.000000e+00\n",
      "25%    10197.000000  5.000000e+01      18.500000  3.900000e+01\n",
      "50%    20393.000000  8.500000e+04      25.000000  6.230000e+04\n",
      "75%    30589.000000  1.425000e+05    2207.000000  1.000000e+05\n",
      "max    40785.000000  1.200000e+08  750000.000000  8.500000e+07\n",
      "<class 'pandas.core.frame.DataFrame'>\n",
      "RangeIndex: 40785 entries, 0 to 40784\n",
      "Data columns (total 8 columns):\n",
      " #   Column             Non-Null Count  Dtype  \n",
      "---  ------             --------------  -----  \n",
      " 0   salary_id          40785 non-null  int64  \n",
      " 1   job_id             40785 non-null  object \n",
      " 2   max_salary         33947 non-null  float64\n",
      " 3   med_salary         6838 non-null   float64\n",
      " 4   min_salary         33947 non-null  float64\n",
      " 5   pay_period         40785 non-null  object \n",
      " 6   currency           40785 non-null  object \n",
      " 7   compensation_type  40785 non-null  object \n",
      "dtypes: float64(3), int64(1), object(4)\n",
      "memory usage: 2.5+ MB\n",
      "None\n"
     ]
    }
   ],
   "source": [
    "# Basic stats\n",
    "print(salaries_df.describe())\n",
    "print(salaries_df.info())"
   ]
  },
  {
   "cell_type": "code",
   "execution_count": 61,
   "metadata": {
    "vscode": {
     "languageId": "plaintext"
    }
   },
   "outputs": [
    {
     "name": "stdout",
     "output_type": "stream",
     "text": [
      "salary_id              int64\n",
      "job_id                object\n",
      "max_salary           float64\n",
      "med_salary           float64\n",
      "min_salary           float64\n",
      "pay_period            object\n",
      "currency              object\n",
      "compensation_type     object\n",
      "dtype: object\n"
     ]
    }
   ],
   "source": [
    "# Data types\n",
    "salaries_data_types = salaries_df.dtypes\n",
    "print(salaries_data_types)"
   ]
  },
  {
   "cell_type": "code",
   "execution_count": 62,
   "metadata": {
    "vscode": {
     "languageId": "plaintext"
    }
   },
   "outputs": [
    {
     "data": {
      "text/plain": [
       "salary_id                0\n",
       "job_id                   0\n",
       "max_salary            6838\n",
       "med_salary           33947\n",
       "min_salary            6838\n",
       "pay_period               0\n",
       "currency                 0\n",
       "compensation_type        0\n",
       "dtype: int64"
      ]
     },
     "execution_count": 62,
     "metadata": {},
     "output_type": "execute_result"
    }
   ],
   "source": [
    "# Missing values\n",
    "salaries_df.isnull().sum()"
   ]
  },
  {
   "cell_type": "code",
   "execution_count": 63,
   "metadata": {
    "vscode": {
     "languageId": "plaintext"
    }
   },
   "outputs": [
    {
     "data": {
      "text/plain": [
       "0"
      ]
     },
     "execution_count": 63,
     "metadata": {},
     "output_type": "execute_result"
    }
   ],
   "source": [
    "# Duplicates\n",
    "salaries_df.duplicated().sum()"
   ]
  },
  {
   "cell_type": "code",
   "execution_count": 65,
   "metadata": {
    "vscode": {
     "languageId": "plaintext"
    }
   },
   "outputs": [
    {
     "name": "stdout",
     "output_type": "stream",
     "text": [
      "         min_salary     med_salary    max_salary\n",
      "count  3.394700e+04    6838.000000  3.394700e+04\n",
      "mean   6.508541e+04   21370.298198  9.620987e+04\n",
      "std    4.650612e+05   51338.564169  6.587373e+05\n",
      "min    1.000000e+00       0.000000  1.000000e+00\n",
      "25%    3.900000e+01      18.500000  5.000000e+01\n",
      "50%    6.230000e+04      25.000000  8.500000e+04\n",
      "75%    1.000000e+05    2207.000000  1.425000e+05\n",
      "max    8.500000e+07  750000.000000  1.200000e+08\n"
     ]
    }
   ],
   "source": [
    "# Salary distributions\n",
    "salary_columns = [\"min_salary\", \"med_salary\", \"max_salary\"]\n",
    "print(salaries_df[salary_columns].describe())"
   ]
  },
  {
   "cell_type": "code",
   "execution_count": 69,
   "metadata": {
    "vscode": {
     "languageId": "plaintext"
    }
   },
   "outputs": [
    {
     "data": {
      "text/plain": [
       "<Axes: xlabel='Salary Type', ylabel='Salary'>"
      ]
     },
     "execution_count": 69,
     "metadata": {},
     "output_type": "execute_result"
    },
    {
     "data": {
      "image/png": "[encoded data removed]",
      "text/plain": [
       "<Figure size 1000x500 with 1 Axes>"
      ]
     },
     "metadata": {},
     "output_type": "display_data"
    }
   ],
   "source": [
    "# Visualize salary distribution\n",
    "df_melted = salaries_df.melt(value_vars=[\"min_salary\", \"med_salary\", \"max_salary\"], \n",
    "                     var_name=\"Salary Type\", value_name=\"Salary\")\n",
    "\n",
    "plt.figure(figsize=(10, 5))\n",
    "sns.boxplot(data=df_melted, x=\"Salary Type\", y=\"Salary\", palette=\"coolwarm\")"
   ]
  },
  {
   "cell_type": "code",
   "execution_count": null,
   "metadata": {},
   "outputs": [],
   "source": [
    "plt.figure(figsize=(10, 5))\n",
    "sns.histplot(salaries_df[\"min_salary\"], color=\"blue\", kde=True, label=\"Min Salary\", bins=30)\n",
    "sns.histplot(salaries_df[\"med_salary\"], color=\"green\", kde=True, label=\"Median Salary\", bins=30)\n",
    "sns.histplot(salaries_df[\"max_salary\"], color=\"red\", kde=True, label=\"Max Salary\", bins=30)\n",
    "\n",
    "# Customize plot\n",
    "plt.title(\"Salary Distribution (Histogram)\")\n",
    "plt.xlabel(\"Salary\")\n",
    "plt.ylabel(\"Frequency\")\n",
    "plt.legend()\n",
    "plt.show()"
   ]
  },
  {
   "cell_type": "markdown",
   "metadata": {},
   "source": [
    "### job_skills EDA"
   ]
  },
  {
   "cell_type": "code",
   "execution_count": 71,
   "metadata": {
    "vscode": {
     "languageId": "plaintext"
    }
   },
   "outputs": [
    {
     "name": "stdout",
     "output_type": "stream",
     "text": [
      "            job_id skill_abr\n",
      "count       213768    213768\n",
      "unique      126807        35\n",
      "top     3888474981        IT\n",
      "freq             3     26137\n",
      "<class 'pandas.core.frame.DataFrame'>\n",
      "RangeIndex: 213768 entries, 0 to 213767\n",
      "Data columns (total 2 columns):\n",
      " #   Column     Non-Null Count   Dtype \n",
      "---  ------     --------------   ----- \n",
      " 0   job_id     213768 non-null  object\n",
      " 1   skill_abr  213768 non-null  object\n",
      "dtypes: object(2)\n",
      "memory usage: 3.3+ MB\n",
      "None\n"
     ]
    }
   ],
   "source": [
    "# Basic stats\n",
    "print(job_skills_df.describe())\n",
    "print(job_skills_df.info())"
   ]
  },
  {
   "cell_type": "code",
   "execution_count": 72,
   "metadata": {
    "vscode": {
     "languageId": "plaintext"
    }
   },
   "outputs": [
    {
     "name": "stdout",
     "output_type": "stream",
     "text": [
      "job_id       object\n",
      "skill_abr    object\n",
      "dtype: object\n"
     ]
    }
   ],
   "source": [
    "# Data types\n",
    "job_skills_data_types = job_skills_df.dtypes\n",
    "print(job_skills_data_types)"
   ]
  },
  {
   "cell_type": "code",
   "execution_count": 73,
   "metadata": {
    "vscode": {
     "languageId": "plaintext"
    }
   },
   "outputs": [
    {
     "data": {
      "text/plain": [
       "job_id       0\n",
       "skill_abr    0\n",
       "dtype: int64"
      ]
     },
     "execution_count": 73,
     "metadata": {},
     "output_type": "execute_result"
    }
   ],
   "source": [
    "# Missing values\n",
    "job_skills_df.isnull().sum()"
   ]
  },
  {
   "cell_type": "code",
   "execution_count": 74,
   "metadata": {
    "vscode": {
     "languageId": "plaintext"
    }
   },
   "outputs": [
    {
     "data": {
      "text/plain": [
       "0"
      ]
     },
     "execution_count": 74,
     "metadata": {},
     "output_type": "execute_result"
    }
   ],
   "source": [
    "# Duplicates\n",
    "job_skills_df.duplicated().sum()"
   ]
  },
  {
   "cell_type": "code",
   "execution_count": 75,
   "metadata": {
    "vscode": {
     "languageId": "plaintext"
    }
   },
   "outputs": [
    {
     "name": "stdout",
     "output_type": "stream",
     "text": [
      "Unique Job Skills: 35\n"
     ]
    }
   ],
   "source": [
    "# Summary statistics\n",
    "print(f\"Unique Job Skills: {job_skills_df['skill_abr'].nunique()}\")"
   ]
  },
  {
   "cell_type": "code",
   "execution_count": 76,
   "metadata": {
    "vscode": {
     "languageId": "plaintext"
    }
   },
   "outputs": [
    {
     "name": "stdout",
     "output_type": "stream",
     "text": [
      "skill_abr\n",
      "IT      26137\n",
      "SALE    22475\n",
      "MGMT    20861\n",
      "MNFC    18185\n",
      "HCPR    17369\n",
      "BD      14290\n",
      "ENG     13009\n",
      "OTHR    12608\n",
      "FIN      8540\n",
      "MRKT     5525\n",
      "ACCT     5461\n",
      "ADM      4860\n",
      "CUST     4292\n",
      "PRJM     3997\n",
      "ANLS     3858\n",
      "RSCH     2986\n",
      "HR       2647\n",
      "LGL      2371\n",
      "CNSL     2338\n",
      "EDU      2290\n",
      "Name: count, dtype: int64\n"
     ]
    }
   ],
   "source": [
    "# Skill frequencies\n",
    "job_skills_df[\"skill_abr\"] = job_skills_df[\"skill_abr\"].astype(str)  # Ensure it's a string\n",
    "skills = job_skills_df[\"skill_abr\"].str.split(\",\").explode().str.strip().value_counts()\n",
    "print(skills.head(20))"
   ]
  },
  {
   "cell_type": "code",
   "execution_count": 79,
   "metadata": {
    "vscode": {
     "languageId": "plaintext"
    }
   },
   "outputs": [
    {
     "data": {
      "image/png": "[encoded data removed]",
      "text/plain": [
       "<Figure size 1000x500 with 1 Axes>"
      ]
     },
     "metadata": {},
     "output_type": "display_data"
    }
   ],
   "source": [
    "# Concatenate all skills descriptions\n",
    "all_skills = \" \".join(job_skills_df[\"skill_abr\"].dropna())\n",
    "\n",
    "# Generate WordCloud\n",
    "wordcloud = WordCloud(width=800, height=400, background_color=\"white\").generate(all_skills)\n",
    "\n",
    "# Bar Chart of Top 20 Most Common Skills\n",
    "top_skills = skills.head(20)\n",
    "\n",
    "plt.figure(figsize=(10, 5))\n",
    "sns.barplot(y=top_skills.index, x=top_skills.values, palette=\"viridis\")\n",
    "plt.title(\"Top 20 Most Common Skills\")\n",
    "plt.xlabel(\"Number of Occurrences\")\n",
    "plt.ylabel(\"Skill\")\n",
    "plt.show()"
   ]
  },
  {
   "cell_type": "markdown",
   "metadata": {},
   "source": [
    "### Bias Analysis"
   ]
  },
  {
   "cell_type": "code",
   "execution_count": null,
   "metadata": {
    "vscode": {
     "languageId": "plaintext"
    }
   },
   "outputs": [],
   "source": [
    "# Salary Bias \n",
    "plt.figure(figsize=(12, 6))\n",
    "sns.boxplot(data=postings_df, x=\"formatted_experience_level\", y=\"normalized_salary\", palette=\"coolwarm\")\n",
    "plt.title(\"Salary Distribution by Experience Level\")\n",
    "plt.xlabel(\"Experience Level\")\n",
    "plt.ylabel(\"Normalized Salary\")\n",
    "plt.xticks(rotation=45)\n",
    "plt.show()"
   ]
  },
  {
   "cell_type": "code",
   "execution_count": null,
   "metadata": {
    "vscode": {
     "languageId": "plaintext"
    }
   },
   "outputs": [],
   "source": []
  }
 ],
 "metadata": {
  "kernelspec": {
   "display_name": "Python 3 (ipykernel)",
   "language": "python",
   "name": "python3"
  },
  "language_info": {
   "codemirror_mode": {
    "name": "ipython",
    "version": 3
   },
   "file_extension": ".py",
   "mimetype": "text/x-python",
   "name": "python",
   "nbconvert_exporter": "python",
   "pygments_lexer": "ipython3",
   "version": "3.11.11"
  }
 },
 "nbformat": 4,
 "nbformat_minor": 4
}
